{
 "cells": [
  {
   "cell_type": "code",
   "execution_count": 1,
   "metadata": {},
   "outputs": [],
   "source": [
    "%config IPCompleter.greedy=True"
   ]
  },
  {
   "cell_type": "code",
   "execution_count": 2,
   "metadata": {},
   "outputs": [],
   "source": [
    "import pandas as pd\n",
    "import numpy as np\n",
    "np.random.seed(0)"
   ]
  },
  {
   "cell_type": "code",
   "execution_count": 3,
   "metadata": {},
   "outputs": [],
   "source": [
    "\n",
    "checkin = pd.read_csv(\"./Datasets/dataset_TIST2015/smallCheckin.csv\", header=None, sep=\"\\t\")\n",
    "cities = pd.read_csv(\"./Datasets/dataset_TIST2015/dataset_TIST2015_Cities.txt\", header=None, sep=\"\\t\")\n",
    "pois = pd.read_csv(\"./Datasets/dataset_TIST2015/dataset_TIST2015_POIs.txt\", header=None, sep=\"\\t\")\n",
    "\n",
    "checkin.columns = ['user_id','venue_id','utc_time','offset']\n",
    "pois.columns = ['venue_id','latitude','longitude','category','country_code']\n",
    "cities.columns = ['city','latitude','longitude','country_code','country_name','city_type']\n",
    "\n",
    "df1 = checkin.merge(pois, on=\"venue_id\")\n"
   ]
  },
  {
   "cell_type": "code",
   "execution_count": 21,
   "metadata": {},
   "outputs": [],
   "source": [
    "v = set()\n",
    "size = 60\n",
    "def chunk_preprocess(df,field='user_id'):\n",
    "    global v,size\n",
    "    df.columns= ['user_id','venue_id','utc_time','offset']\n",
    "    d = df[df[field].isin(v)]\n",
    "    return d"
   ]
  },
  {
   "cell_type": "code",
   "execution_count": 22,
   "metadata": {},
   "outputs": [],
   "source": [
    "import random\n",
    "random.seed(0)\n",
    "size =1000"
   ]
  },
  {
   "cell_type": "code",
   "execution_count": 29,
   "metadata": {},
   "outputs": [
    {
     "name": "stdout",
     "output_type": "stream",
     "text": [
      "len v 1000\n",
      "ind  0\n",
      "ind  50\n",
      "ind  100\n",
      "ind  150\n",
      "ind  200\n",
      "final len 181089\n",
      "No. of users:  1000\n"
     ]
    }
   ],
   "source": [
    "checkin_chunk = pd.read_csv(\"./Datasets/dataset_TIST2015/dataset_TIST2015_Checkins.txt\", header=None,sep=\"\\t\",chunksize = 150000)\n",
    "checkins_list = []\n",
    "for df in checkin_chunk:\n",
    "    if(len(v) >= size):\n",
    "        break\n",
    "    df.columns= ['user_id','venue_id','utc_time','offset']\n",
    "    if(len(df['user_id'].unique()) < size-len(v)):\n",
    "        v = v | len(df['userid'].unique())\n",
    "    else:\n",
    "        v = v | set(random.sample(set(df['user_id'].unique()), size-len(v)))\n",
    "                              \n",
    "print('len v', len(v))\n",
    "    \n",
    "for ind, i in enumerate(checkin_chunk):\n",
    "    df  = chunk_preprocess(i)\n",
    "    if not ind%50: print('ind ', ind)\n",
    "    if df is not None: \n",
    "        checkins_list.append(df)\n",
    "        #print('subframe len',len(df.index))\n",
    "        #print('No. of users: ', len(df['user_id'].unique()))\n",
    "        # print(len(checkins_list))\n",
    "    else:\n",
    "        print(\"000000000000\")\n",
    "        break\n",
    "if len(checkins_list) >= 1: checkindf = pd.concat(checkins_list)\n",
    "else: print(\"000000000000\")\n",
    "print('final len', len(checkindf.index))\n",
    "print('No. of users: ', len(checkindf['user_id'].unique()))"
   ]
  },
  {
   "cell_type": "code",
   "execution_count": 30,
   "metadata": {},
   "outputs": [],
   "source": [
    "checkindf.to_csv(\"./Datasets/dataset_TIST2015/smalldata_unproc.csv\", index=False)"
   ]
  },
  {
   "cell_type": "code",
   "execution_count": 31,
   "metadata": {},
   "outputs": [],
   "source": [
    "c = pd.read_csv(\"./Datasets/dataset_TIST2015/smalldata_unproc.csv\")"
   ]
  },
  {
   "cell_type": "code",
   "execution_count": 32,
   "metadata": {},
   "outputs": [],
   "source": [
    "\n",
    "c = c.drop('offset', axis=1)\n"
   ]
  },
  {
   "cell_type": "code",
   "execution_count": 33,
   "metadata": {},
   "outputs": [
    {
     "data": {
      "text/html": [
       "<div>\n",
       "<style scoped>\n",
       "    .dataframe tbody tr th:only-of-type {\n",
       "        vertical-align: middle;\n",
       "    }\n",
       "\n",
       "    .dataframe tbody tr th {\n",
       "        vertical-align: top;\n",
       "    }\n",
       "\n",
       "    .dataframe thead th {\n",
       "        text-align: right;\n",
       "    }\n",
       "</style>\n",
       "<table border=\"1\" class=\"dataframe\">\n",
       "  <thead>\n",
       "    <tr style=\"text-align: right;\">\n",
       "      <th></th>\n",
       "      <th>user_id</th>\n",
       "      <th>venue_id</th>\n",
       "      <th>utc_time</th>\n",
       "    </tr>\n",
       "  </thead>\n",
       "  <tbody>\n",
       "    <tr>\n",
       "      <th>0</th>\n",
       "      <td>133809</td>\n",
       "      <td>4d563f3e9e508cfa7f210b9b</td>\n",
       "      <td>Wed Apr 04 23:51:35 +0000 2012</td>\n",
       "    </tr>\n",
       "    <tr>\n",
       "      <th>1</th>\n",
       "      <td>143349</td>\n",
       "      <td>4c3a3bd7dfb0e21ebfdbb1a8</td>\n",
       "      <td>Wed Apr 04 23:52:24 +0000 2012</td>\n",
       "    </tr>\n",
       "    <tr>\n",
       "      <th>2</th>\n",
       "      <td>35454</td>\n",
       "      <td>4b60e62cf964a52068002ae3</td>\n",
       "      <td>Wed Apr 04 23:52:27 +0000 2012</td>\n",
       "    </tr>\n",
       "    <tr>\n",
       "      <th>3</th>\n",
       "      <td>26272</td>\n",
       "      <td>4f73eae8bb3dcf63c7ef8d89</td>\n",
       "      <td>Wed Apr 04 23:52:39 +0000 2012</td>\n",
       "    </tr>\n",
       "    <tr>\n",
       "      <th>4</th>\n",
       "      <td>80886</td>\n",
       "      <td>4b635c54f964a52082742ae3</td>\n",
       "      <td>Wed Apr 04 23:52:46 +0000 2012</td>\n",
       "    </tr>\n",
       "  </tbody>\n",
       "</table>\n",
       "</div>"
      ],
      "text/plain": [
       "   user_id                  venue_id                        utc_time\n",
       "0   133809  4d563f3e9e508cfa7f210b9b  Wed Apr 04 23:51:35 +0000 2012\n",
       "1   143349  4c3a3bd7dfb0e21ebfdbb1a8  Wed Apr 04 23:52:24 +0000 2012\n",
       "2    35454  4b60e62cf964a52068002ae3  Wed Apr 04 23:52:27 +0000 2012\n",
       "3    26272  4f73eae8bb3dcf63c7ef8d89  Wed Apr 04 23:52:39 +0000 2012\n",
       "4    80886  4b635c54f964a52082742ae3  Wed Apr 04 23:52:46 +0000 2012"
      ]
     },
     "execution_count": 33,
     "metadata": {},
     "output_type": "execute_result"
    }
   ],
   "source": [
    "c.head()"
   ]
  },
  {
   "cell_type": "code",
   "execution_count": 34,
   "metadata": {},
   "outputs": [
    {
     "data": {
      "text/plain": [
       "181089"
      ]
     },
     "execution_count": 34,
     "metadata": {},
     "output_type": "execute_result"
    }
   ],
   "source": [
    "len(c.index)"
   ]
  },
  {
   "cell_type": "code",
   "execution_count": 35,
   "metadata": {},
   "outputs": [],
   "source": [
    "c['utc_time'] = pd.to_datetime(c['utc_time'])\n"
   ]
  },
  {
   "cell_type": "code",
   "execution_count": 36,
   "metadata": {},
   "outputs": [],
   "source": [
    "c['utc_time'] = c['utc_time'] - c['utc_time'].min()\n"
   ]
  },
  {
   "cell_type": "code",
   "execution_count": 37,
   "metadata": {},
   "outputs": [],
   "source": [
    "c['utc_time'] = c['utc_time'].dt.seconds\n"
   ]
  },
  {
   "cell_type": "code",
   "execution_count": 38,
   "metadata": {},
   "outputs": [
    {
     "data": {
      "text/html": [
       "<div>\n",
       "<style scoped>\n",
       "    .dataframe tbody tr th:only-of-type {\n",
       "        vertical-align: middle;\n",
       "    }\n",
       "\n",
       "    .dataframe tbody tr th {\n",
       "        vertical-align: top;\n",
       "    }\n",
       "\n",
       "    .dataframe thead th {\n",
       "        text-align: right;\n",
       "    }\n",
       "</style>\n",
       "<table border=\"1\" class=\"dataframe\">\n",
       "  <thead>\n",
       "    <tr style=\"text-align: right;\">\n",
       "      <th></th>\n",
       "      <th>user_id</th>\n",
       "      <th>venue_id</th>\n",
       "      <th>utc_time</th>\n",
       "    </tr>\n",
       "  </thead>\n",
       "  <tbody>\n",
       "    <tr>\n",
       "      <th>0</th>\n",
       "      <td>133809</td>\n",
       "      <td>4d563f3e9e508cfa7f210b9b</td>\n",
       "      <td>0</td>\n",
       "    </tr>\n",
       "    <tr>\n",
       "      <th>1</th>\n",
       "      <td>143349</td>\n",
       "      <td>4c3a3bd7dfb0e21ebfdbb1a8</td>\n",
       "      <td>49</td>\n",
       "    </tr>\n",
       "    <tr>\n",
       "      <th>2</th>\n",
       "      <td>35454</td>\n",
       "      <td>4b60e62cf964a52068002ae3</td>\n",
       "      <td>52</td>\n",
       "    </tr>\n",
       "    <tr>\n",
       "      <th>3</th>\n",
       "      <td>26272</td>\n",
       "      <td>4f73eae8bb3dcf63c7ef8d89</td>\n",
       "      <td>64</td>\n",
       "    </tr>\n",
       "    <tr>\n",
       "      <th>4</th>\n",
       "      <td>80886</td>\n",
       "      <td>4b635c54f964a52082742ae3</td>\n",
       "      <td>71</td>\n",
       "    </tr>\n",
       "  </tbody>\n",
       "</table>\n",
       "</div>"
      ],
      "text/plain": [
       "   user_id                  venue_id  utc_time\n",
       "0   133809  4d563f3e9e508cfa7f210b9b         0\n",
       "1   143349  4c3a3bd7dfb0e21ebfdbb1a8        49\n",
       "2    35454  4b60e62cf964a52068002ae3        52\n",
       "3    26272  4f73eae8bb3dcf63c7ef8d89        64\n",
       "4    80886  4b635c54f964a52082742ae3        71"
      ]
     },
     "execution_count": 38,
     "metadata": {},
     "output_type": "execute_result"
    }
   ],
   "source": [
    "c.to_csv(\"./Datasets/dataset_TIST2015/smalldata_unproc.csv\", index=False)\n",
    "c.head()"
   ]
  },
  {
   "cell_type": "code",
   "execution_count": 40,
   "metadata": {},
   "outputs": [
    {
     "data": {
      "text/html": [
       "<div>\n",
       "<style scoped>\n",
       "    .dataframe tbody tr th:only-of-type {\n",
       "        vertical-align: middle;\n",
       "    }\n",
       "\n",
       "    .dataframe tbody tr th {\n",
       "        vertical-align: top;\n",
       "    }\n",
       "\n",
       "    .dataframe thead th {\n",
       "        text-align: right;\n",
       "    }\n",
       "</style>\n",
       "<table border=\"1\" class=\"dataframe\">\n",
       "  <thead>\n",
       "    <tr style=\"text-align: right;\">\n",
       "      <th></th>\n",
       "      <th>user_id</th>\n",
       "      <th>venue_id</th>\n",
       "      <th>utc_time</th>\n",
       "    </tr>\n",
       "  </thead>\n",
       "  <tbody>\n",
       "    <tr>\n",
       "      <th>0</th>\n",
       "      <td>133809</td>\n",
       "      <td>4d563f3e9e508cfa7f210b9b</td>\n",
       "      <td>0</td>\n",
       "    </tr>\n",
       "    <tr>\n",
       "      <th>1</th>\n",
       "      <td>143349</td>\n",
       "      <td>4c3a3bd7dfb0e21ebfdbb1a8</td>\n",
       "      <td>49</td>\n",
       "    </tr>\n",
       "    <tr>\n",
       "      <th>2</th>\n",
       "      <td>35454</td>\n",
       "      <td>4b60e62cf964a52068002ae3</td>\n",
       "      <td>52</td>\n",
       "    </tr>\n",
       "    <tr>\n",
       "      <th>3</th>\n",
       "      <td>26272</td>\n",
       "      <td>4f73eae8bb3dcf63c7ef8d89</td>\n",
       "      <td>64</td>\n",
       "    </tr>\n",
       "    <tr>\n",
       "      <th>4</th>\n",
       "      <td>80886</td>\n",
       "      <td>4b635c54f964a52082742ae3</td>\n",
       "      <td>71</td>\n",
       "    </tr>\n",
       "  </tbody>\n",
       "</table>\n",
       "</div>"
      ],
      "text/plain": [
       "   user_id                  venue_id  utc_time\n",
       "0   133809  4d563f3e9e508cfa7f210b9b         0\n",
       "1   143349  4c3a3bd7dfb0e21ebfdbb1a8        49\n",
       "2    35454  4b60e62cf964a52068002ae3        52\n",
       "3    26272  4f73eae8bb3dcf63c7ef8d89        64\n",
       "4    80886  4b635c54f964a52082742ae3        71"
      ]
     },
     "execution_count": 40,
     "metadata": {},
     "output_type": "execute_result"
    }
   ],
   "source": [
    "############# Start from here ##################\n",
    "c = pd.read_csv(\"./Datasets/dataset_TIST2015/smalldata_unproc.csv\")\n",
    "c.head()"
   ]
  },
  {
   "cell_type": "code",
   "execution_count": 41,
   "metadata": {},
   "outputs": [],
   "source": [
    "df= c.merge(pois,on=\"venue_id\")\n"
   ]
  },
  {
   "cell_type": "code",
   "execution_count": 42,
   "metadata": {},
   "outputs": [
    {
     "data": {
      "text/plain": [
       "181089"
      ]
     },
     "execution_count": 42,
     "metadata": {},
     "output_type": "execute_result"
    }
   ],
   "source": [
    "len(df.index)"
   ]
  },
  {
   "cell_type": "code",
   "execution_count": 45,
   "metadata": {},
   "outputs": [
    {
     "data": {
      "text/html": [
       "<div>\n",
       "<style scoped>\n",
       "    .dataframe tbody tr th:only-of-type {\n",
       "        vertical-align: middle;\n",
       "    }\n",
       "\n",
       "    .dataframe tbody tr th {\n",
       "        vertical-align: top;\n",
       "    }\n",
       "\n",
       "    .dataframe thead th {\n",
       "        text-align: right;\n",
       "    }\n",
       "</style>\n",
       "<table border=\"1\" class=\"dataframe\">\n",
       "  <thead>\n",
       "    <tr style=\"text-align: right;\">\n",
       "      <th></th>\n",
       "      <th>user_id</th>\n",
       "      <th>venue_id</th>\n",
       "      <th>utc_time</th>\n",
       "      <th>latitude</th>\n",
       "      <th>longitude</th>\n",
       "      <th>category</th>\n",
       "      <th>country_code</th>\n",
       "    </tr>\n",
       "  </thead>\n",
       "  <tbody>\n",
       "    <tr>\n",
       "      <th>0</th>\n",
       "      <td>133809</td>\n",
       "      <td>4d563f3e9e508cfa7f210b9b</td>\n",
       "      <td>0</td>\n",
       "      <td>51.062714</td>\n",
       "      <td>-113.952671</td>\n",
       "      <td>Home (private)</td>\n",
       "      <td>CA</td>\n",
       "    </tr>\n",
       "    <tr>\n",
       "      <th>1</th>\n",
       "      <td>133809</td>\n",
       "      <td>4d563f3e9e508cfa7f210b9b</td>\n",
       "      <td>4395</td>\n",
       "      <td>51.062714</td>\n",
       "      <td>-113.952671</td>\n",
       "      <td>Home (private)</td>\n",
       "      <td>CA</td>\n",
       "    </tr>\n",
       "    <tr>\n",
       "      <th>2</th>\n",
       "      <td>133809</td>\n",
       "      <td>4d563f3e9e508cfa7f210b9b</td>\n",
       "      <td>1443</td>\n",
       "      <td>51.062714</td>\n",
       "      <td>-113.952671</td>\n",
       "      <td>Home (private)</td>\n",
       "      <td>CA</td>\n",
       "    </tr>\n",
       "    <tr>\n",
       "      <th>3</th>\n",
       "      <td>133809</td>\n",
       "      <td>4d563f3e9e508cfa7f210b9b</td>\n",
       "      <td>70401</td>\n",
       "      <td>51.062714</td>\n",
       "      <td>-113.952671</td>\n",
       "      <td>Home (private)</td>\n",
       "      <td>CA</td>\n",
       "    </tr>\n",
       "    <tr>\n",
       "      <th>4</th>\n",
       "      <td>133809</td>\n",
       "      <td>4d563f3e9e508cfa7f210b9b</td>\n",
       "      <td>20050</td>\n",
       "      <td>51.062714</td>\n",
       "      <td>-113.952671</td>\n",
       "      <td>Home (private)</td>\n",
       "      <td>CA</td>\n",
       "    </tr>\n",
       "  </tbody>\n",
       "</table>\n",
       "</div>"
      ],
      "text/plain": [
       "   user_id                  venue_id  utc_time   latitude   longitude  \\\n",
       "0   133809  4d563f3e9e508cfa7f210b9b         0  51.062714 -113.952671   \n",
       "1   133809  4d563f3e9e508cfa7f210b9b      4395  51.062714 -113.952671   \n",
       "2   133809  4d563f3e9e508cfa7f210b9b      1443  51.062714 -113.952671   \n",
       "3   133809  4d563f3e9e508cfa7f210b9b     70401  51.062714 -113.952671   \n",
       "4   133809  4d563f3e9e508cfa7f210b9b     20050  51.062714 -113.952671   \n",
       "\n",
       "         category country_code  \n",
       "0  Home (private)           CA  \n",
       "1  Home (private)           CA  \n",
       "2  Home (private)           CA  \n",
       "3  Home (private)           CA  \n",
       "4  Home (private)           CA  "
      ]
     },
     "execution_count": 45,
     "metadata": {},
     "output_type": "execute_result"
    }
   ],
   "source": [
    "df.head()"
   ]
  },
  {
   "cell_type": "code",
   "execution_count": 46,
   "metadata": {},
   "outputs": [
    {
     "data": {
      "text/plain": [
       "420"
      ]
     },
     "execution_count": 46,
     "metadata": {},
     "output_type": "execute_result"
    }
   ],
   "source": [
    "#df = df.drop(['latitude','longitude'], axis=1)\n",
    "len(np.unique(df['category']))\n"
   ]
  },
  {
   "cell_type": "code",
   "execution_count": 47,
   "metadata": {},
   "outputs": [
    {
     "name": "stdout",
     "output_type": "stream",
     "text": [
      "('No. of cats: ', 420)\n"
     ]
    }
   ],
   "source": [
    "d = {k:v for v,k in enumerate(list(set(df['category'])))}\n",
    "print('No. of cats: ', len(d.keys()))\n",
    "df['category_id'] = df['category'].map(d)"
   ]
  },
  {
   "cell_type": "code",
   "execution_count": 48,
   "metadata": {},
   "outputs": [
    {
     "data": {
      "text/html": [
       "<div>\n",
       "<style scoped>\n",
       "    .dataframe tbody tr th:only-of-type {\n",
       "        vertical-align: middle;\n",
       "    }\n",
       "\n",
       "    .dataframe tbody tr th {\n",
       "        vertical-align: top;\n",
       "    }\n",
       "\n",
       "    .dataframe thead th {\n",
       "        text-align: right;\n",
       "    }\n",
       "</style>\n",
       "<table border=\"1\" class=\"dataframe\">\n",
       "  <thead>\n",
       "    <tr style=\"text-align: right;\">\n",
       "      <th></th>\n",
       "      <th>user_id</th>\n",
       "      <th>venue_id</th>\n",
       "      <th>utc_time</th>\n",
       "      <th>latitude</th>\n",
       "      <th>longitude</th>\n",
       "      <th>category</th>\n",
       "      <th>country_code</th>\n",
       "      <th>category_id</th>\n",
       "    </tr>\n",
       "  </thead>\n",
       "  <tbody>\n",
       "    <tr>\n",
       "      <th>0</th>\n",
       "      <td>133809</td>\n",
       "      <td>4d563f3e9e508cfa7f210b9b</td>\n",
       "      <td>0</td>\n",
       "      <td>51.062714</td>\n",
       "      <td>-113.952671</td>\n",
       "      <td>Home (private)</td>\n",
       "      <td>CA</td>\n",
       "      <td>7</td>\n",
       "    </tr>\n",
       "    <tr>\n",
       "      <th>1</th>\n",
       "      <td>133809</td>\n",
       "      <td>4d563f3e9e508cfa7f210b9b</td>\n",
       "      <td>4395</td>\n",
       "      <td>51.062714</td>\n",
       "      <td>-113.952671</td>\n",
       "      <td>Home (private)</td>\n",
       "      <td>CA</td>\n",
       "      <td>7</td>\n",
       "    </tr>\n",
       "    <tr>\n",
       "      <th>2</th>\n",
       "      <td>133809</td>\n",
       "      <td>4d563f3e9e508cfa7f210b9b</td>\n",
       "      <td>1443</td>\n",
       "      <td>51.062714</td>\n",
       "      <td>-113.952671</td>\n",
       "      <td>Home (private)</td>\n",
       "      <td>CA</td>\n",
       "      <td>7</td>\n",
       "    </tr>\n",
       "    <tr>\n",
       "      <th>3</th>\n",
       "      <td>133809</td>\n",
       "      <td>4d563f3e9e508cfa7f210b9b</td>\n",
       "      <td>70401</td>\n",
       "      <td>51.062714</td>\n",
       "      <td>-113.952671</td>\n",
       "      <td>Home (private)</td>\n",
       "      <td>CA</td>\n",
       "      <td>7</td>\n",
       "    </tr>\n",
       "    <tr>\n",
       "      <th>4</th>\n",
       "      <td>133809</td>\n",
       "      <td>4d563f3e9e508cfa7f210b9b</td>\n",
       "      <td>20050</td>\n",
       "      <td>51.062714</td>\n",
       "      <td>-113.952671</td>\n",
       "      <td>Home (private)</td>\n",
       "      <td>CA</td>\n",
       "      <td>7</td>\n",
       "    </tr>\n",
       "  </tbody>\n",
       "</table>\n",
       "</div>"
      ],
      "text/plain": [
       "   user_id                  venue_id  utc_time   latitude   longitude  \\\n",
       "0   133809  4d563f3e9e508cfa7f210b9b         0  51.062714 -113.952671   \n",
       "1   133809  4d563f3e9e508cfa7f210b9b      4395  51.062714 -113.952671   \n",
       "2   133809  4d563f3e9e508cfa7f210b9b      1443  51.062714 -113.952671   \n",
       "3   133809  4d563f3e9e508cfa7f210b9b     70401  51.062714 -113.952671   \n",
       "4   133809  4d563f3e9e508cfa7f210b9b     20050  51.062714 -113.952671   \n",
       "\n",
       "         category country_code  category_id  \n",
       "0  Home (private)           CA            7  \n",
       "1  Home (private)           CA            7  \n",
       "2  Home (private)           CA            7  \n",
       "3  Home (private)           CA            7  \n",
       "4  Home (private)           CA            7  "
      ]
     },
     "execution_count": 48,
     "metadata": {},
     "output_type": "execute_result"
    }
   ],
   "source": [
    "df.head()"
   ]
  },
  {
   "cell_type": "code",
   "execution_count": 49,
   "metadata": {},
   "outputs": [
    {
     "name": "stdout",
     "output_type": "stream",
     "text": [
      "('No. of countries: ', 71)\n"
     ]
    }
   ],
   "source": [
    "d = {k:v for v,k in enumerate(list(set(df['country_code'])))}\n",
    "print('No. of countries: ', len(d.keys()))\n",
    "df['country_code_id'] = df['country_code'].map(d)"
   ]
  },
  {
   "cell_type": "code",
   "execution_count": 50,
   "metadata": {},
   "outputs": [
    {
     "data": {
      "text/html": [
       "<div>\n",
       "<style scoped>\n",
       "    .dataframe tbody tr th:only-of-type {\n",
       "        vertical-align: middle;\n",
       "    }\n",
       "\n",
       "    .dataframe tbody tr th {\n",
       "        vertical-align: top;\n",
       "    }\n",
       "\n",
       "    .dataframe thead th {\n",
       "        text-align: right;\n",
       "    }\n",
       "</style>\n",
       "<table border=\"1\" class=\"dataframe\">\n",
       "  <thead>\n",
       "    <tr style=\"text-align: right;\">\n",
       "      <th></th>\n",
       "      <th>user_id</th>\n",
       "      <th>venue_id</th>\n",
       "      <th>utc_time</th>\n",
       "      <th>latitude</th>\n",
       "      <th>longitude</th>\n",
       "      <th>category</th>\n",
       "      <th>country_code</th>\n",
       "      <th>category_id</th>\n",
       "      <th>country_code_id</th>\n",
       "    </tr>\n",
       "  </thead>\n",
       "  <tbody>\n",
       "    <tr>\n",
       "      <th>0</th>\n",
       "      <td>133809</td>\n",
       "      <td>4d563f3e9e508cfa7f210b9b</td>\n",
       "      <td>0</td>\n",
       "      <td>51.062714</td>\n",
       "      <td>-113.952671</td>\n",
       "      <td>Home (private)</td>\n",
       "      <td>CA</td>\n",
       "      <td>7</td>\n",
       "      <td>38</td>\n",
       "    </tr>\n",
       "    <tr>\n",
       "      <th>1</th>\n",
       "      <td>133809</td>\n",
       "      <td>4d563f3e9e508cfa7f210b9b</td>\n",
       "      <td>4395</td>\n",
       "      <td>51.062714</td>\n",
       "      <td>-113.952671</td>\n",
       "      <td>Home (private)</td>\n",
       "      <td>CA</td>\n",
       "      <td>7</td>\n",
       "      <td>38</td>\n",
       "    </tr>\n",
       "    <tr>\n",
       "      <th>2</th>\n",
       "      <td>133809</td>\n",
       "      <td>4d563f3e9e508cfa7f210b9b</td>\n",
       "      <td>1443</td>\n",
       "      <td>51.062714</td>\n",
       "      <td>-113.952671</td>\n",
       "      <td>Home (private)</td>\n",
       "      <td>CA</td>\n",
       "      <td>7</td>\n",
       "      <td>38</td>\n",
       "    </tr>\n",
       "    <tr>\n",
       "      <th>3</th>\n",
       "      <td>133809</td>\n",
       "      <td>4d563f3e9e508cfa7f210b9b</td>\n",
       "      <td>70401</td>\n",
       "      <td>51.062714</td>\n",
       "      <td>-113.952671</td>\n",
       "      <td>Home (private)</td>\n",
       "      <td>CA</td>\n",
       "      <td>7</td>\n",
       "      <td>38</td>\n",
       "    </tr>\n",
       "    <tr>\n",
       "      <th>4</th>\n",
       "      <td>133809</td>\n",
       "      <td>4d563f3e9e508cfa7f210b9b</td>\n",
       "      <td>20050</td>\n",
       "      <td>51.062714</td>\n",
       "      <td>-113.952671</td>\n",
       "      <td>Home (private)</td>\n",
       "      <td>CA</td>\n",
       "      <td>7</td>\n",
       "      <td>38</td>\n",
       "    </tr>\n",
       "  </tbody>\n",
       "</table>\n",
       "</div>"
      ],
      "text/plain": [
       "   user_id                  venue_id  utc_time   latitude   longitude  \\\n",
       "0   133809  4d563f3e9e508cfa7f210b9b         0  51.062714 -113.952671   \n",
       "1   133809  4d563f3e9e508cfa7f210b9b      4395  51.062714 -113.952671   \n",
       "2   133809  4d563f3e9e508cfa7f210b9b      1443  51.062714 -113.952671   \n",
       "3   133809  4d563f3e9e508cfa7f210b9b     70401  51.062714 -113.952671   \n",
       "4   133809  4d563f3e9e508cfa7f210b9b     20050  51.062714 -113.952671   \n",
       "\n",
       "         category country_code  category_id  country_code_id  \n",
       "0  Home (private)           CA            7               38  \n",
       "1  Home (private)           CA            7               38  \n",
       "2  Home (private)           CA            7               38  \n",
       "3  Home (private)           CA            7               38  \n",
       "4  Home (private)           CA            7               38  "
      ]
     },
     "execution_count": 50,
     "metadata": {},
     "output_type": "execute_result"
    }
   ],
   "source": [
    "df.head()"
   ]
  },
  {
   "cell_type": "code",
   "execution_count": 51,
   "metadata": {},
   "outputs": [
    {
     "data": {
      "text/html": [
       "<div>\n",
       "<style scoped>\n",
       "    .dataframe tbody tr th:only-of-type {\n",
       "        vertical-align: middle;\n",
       "    }\n",
       "\n",
       "    .dataframe tbody tr th {\n",
       "        vertical-align: top;\n",
       "    }\n",
       "\n",
       "    .dataframe thead th {\n",
       "        text-align: right;\n",
       "    }\n",
       "</style>\n",
       "<table border=\"1\" class=\"dataframe\">\n",
       "  <thead>\n",
       "    <tr style=\"text-align: right;\">\n",
       "      <th></th>\n",
       "      <th>user_id</th>\n",
       "      <th>venue_id</th>\n",
       "      <th>utc_time</th>\n",
       "      <th>latitude</th>\n",
       "      <th>longitude</th>\n",
       "      <th>category</th>\n",
       "      <th>country_code</th>\n",
       "      <th>category_id</th>\n",
       "      <th>country_code_id</th>\n",
       "    </tr>\n",
       "  </thead>\n",
       "  <tbody>\n",
       "    <tr>\n",
       "      <th>0</th>\n",
       "      <td>133809</td>\n",
       "      <td>4d563f3e9e508cfa7f210b9b</td>\n",
       "      <td>0</td>\n",
       "      <td>51.062714</td>\n",
       "      <td>-113.952671</td>\n",
       "      <td>Home (private)</td>\n",
       "      <td>CA</td>\n",
       "      <td>7</td>\n",
       "      <td>38</td>\n",
       "    </tr>\n",
       "    <tr>\n",
       "      <th>1</th>\n",
       "      <td>133809</td>\n",
       "      <td>4d563f3e9e508cfa7f210b9b</td>\n",
       "      <td>4395</td>\n",
       "      <td>51.062714</td>\n",
       "      <td>-113.952671</td>\n",
       "      <td>Home (private)</td>\n",
       "      <td>CA</td>\n",
       "      <td>7</td>\n",
       "      <td>38</td>\n",
       "    </tr>\n",
       "    <tr>\n",
       "      <th>2</th>\n",
       "      <td>133809</td>\n",
       "      <td>4d563f3e9e508cfa7f210b9b</td>\n",
       "      <td>1443</td>\n",
       "      <td>51.062714</td>\n",
       "      <td>-113.952671</td>\n",
       "      <td>Home (private)</td>\n",
       "      <td>CA</td>\n",
       "      <td>7</td>\n",
       "      <td>38</td>\n",
       "    </tr>\n",
       "    <tr>\n",
       "      <th>3</th>\n",
       "      <td>133809</td>\n",
       "      <td>4d563f3e9e508cfa7f210b9b</td>\n",
       "      <td>70401</td>\n",
       "      <td>51.062714</td>\n",
       "      <td>-113.952671</td>\n",
       "      <td>Home (private)</td>\n",
       "      <td>CA</td>\n",
       "      <td>7</td>\n",
       "      <td>38</td>\n",
       "    </tr>\n",
       "    <tr>\n",
       "      <th>4</th>\n",
       "      <td>133809</td>\n",
       "      <td>4d563f3e9e508cfa7f210b9b</td>\n",
       "      <td>20050</td>\n",
       "      <td>51.062714</td>\n",
       "      <td>-113.952671</td>\n",
       "      <td>Home (private)</td>\n",
       "      <td>CA</td>\n",
       "      <td>7</td>\n",
       "      <td>38</td>\n",
       "    </tr>\n",
       "  </tbody>\n",
       "</table>\n",
       "</div>"
      ],
      "text/plain": [
       "   user_id                  venue_id  utc_time   latitude   longitude  \\\n",
       "0   133809  4d563f3e9e508cfa7f210b9b         0  51.062714 -113.952671   \n",
       "1   133809  4d563f3e9e508cfa7f210b9b      4395  51.062714 -113.952671   \n",
       "2   133809  4d563f3e9e508cfa7f210b9b      1443  51.062714 -113.952671   \n",
       "3   133809  4d563f3e9e508cfa7f210b9b     70401  51.062714 -113.952671   \n",
       "4   133809  4d563f3e9e508cfa7f210b9b     20050  51.062714 -113.952671   \n",
       "\n",
       "         category country_code  category_id  country_code_id  \n",
       "0  Home (private)           CA            7               38  \n",
       "1  Home (private)           CA            7               38  \n",
       "2  Home (private)           CA            7               38  \n",
       "3  Home (private)           CA            7               38  \n",
       "4  Home (private)           CA            7               38  "
      ]
     },
     "execution_count": 51,
     "metadata": {},
     "output_type": "execute_result"
    }
   ],
   "source": [
    "df.head()"
   ]
  },
  {
   "cell_type": "code",
   "execution_count": 52,
   "metadata": {},
   "outputs": [
    {
     "data": {
      "text/plain": [
       "1000"
      ]
     },
     "execution_count": 52,
     "metadata": {},
     "output_type": "execute_result"
    }
   ],
   "source": [
    "len(set(df['user_id']))"
   ]
  },
  {
   "cell_type": "code",
   "execution_count": 53,
   "metadata": {},
   "outputs": [],
   "source": [
    "df.sort_values(by=['user_id','utc_time'],inplace=True)\n",
    "df.to_csv(\"./Datasets/dataset_TIST2015/smalldata.csv\", index=False, sep='\\t')"
   ]
  },
  {
   "cell_type": "code",
   "execution_count": 4,
   "metadata": {},
   "outputs": [],
   "source": [
    "df = pd.read_csv(\"./Datasets/dataset_TIST2015/smalldata.csv\", sep='\\t')\n",
    "venue_city = dict()"
   ]
  },
  {
   "cell_type": "code",
   "execution_count": 5,
   "metadata": {},
   "outputs": [
    {
     "data": {
      "text/plain": [
       "65030"
      ]
     },
     "execution_count": 5,
     "metadata": {},
     "output_type": "execute_result"
    }
   ],
   "source": [
    "len(set(df['venue_id']))"
   ]
  },
  {
   "cell_type": "code",
   "execution_count": 6,
   "metadata": {
    "scrolled": false
   },
   "outputs": [
    {
     "data": {
      "text/html": [
       "<div>\n",
       "<style scoped>\n",
       "    .dataframe tbody tr th:only-of-type {\n",
       "        vertical-align: middle;\n",
       "    }\n",
       "\n",
       "    .dataframe tbody tr th {\n",
       "        vertical-align: top;\n",
       "    }\n",
       "\n",
       "    .dataframe thead th {\n",
       "        text-align: right;\n",
       "    }\n",
       "</style>\n",
       "<table border=\"1\" class=\"dataframe\">\n",
       "  <thead>\n",
       "    <tr style=\"text-align: right;\">\n",
       "      <th></th>\n",
       "      <th>user_id</th>\n",
       "      <th>venue_id</th>\n",
       "      <th>utc_time</th>\n",
       "      <th>latitude</th>\n",
       "      <th>longitude</th>\n",
       "      <th>category</th>\n",
       "      <th>country_code</th>\n",
       "      <th>category_id</th>\n",
       "      <th>country_code_id</th>\n",
       "    </tr>\n",
       "  </thead>\n",
       "  <tbody>\n",
       "    <tr>\n",
       "      <th>0</th>\n",
       "      <td>260</td>\n",
       "      <td>4aa9386ef964a5208b5220e3</td>\n",
       "      <td>22</td>\n",
       "      <td>40.745837</td>\n",
       "      <td>-73.987993</td>\n",
       "      <td>American Restaurant</td>\n",
       "      <td>US</td>\n",
       "      <td>100</td>\n",
       "      <td>60</td>\n",
       "    </tr>\n",
       "    <tr>\n",
       "      <th>1</th>\n",
       "      <td>260</td>\n",
       "      <td>4b021b27f964a520bf4722e3</td>\n",
       "      <td>28</td>\n",
       "      <td>40.760108</td>\n",
       "      <td>-74.044416</td>\n",
       "      <td>Restaurant</td>\n",
       "      <td>US</td>\n",
       "      <td>335</td>\n",
       "      <td>60</td>\n",
       "    </tr>\n",
       "    <tr>\n",
       "      <th>2</th>\n",
       "      <td>260</td>\n",
       "      <td>4bfaa8a35efe2d7fb3ea6d34</td>\n",
       "      <td>58</td>\n",
       "      <td>40.867217</td>\n",
       "      <td>-73.896747</td>\n",
       "      <td>Bus Line</td>\n",
       "      <td>US</td>\n",
       "      <td>364</td>\n",
       "      <td>60</td>\n",
       "    </tr>\n",
       "    <tr>\n",
       "      <th>3</th>\n",
       "      <td>260</td>\n",
       "      <td>4a0e0f85f964a520bf751fe3</td>\n",
       "      <td>90</td>\n",
       "      <td>40.745878</td>\n",
       "      <td>-73.988142</td>\n",
       "      <td>Hotel</td>\n",
       "      <td>US</td>\n",
       "      <td>377</td>\n",
       "      <td>60</td>\n",
       "    </tr>\n",
       "    <tr>\n",
       "      <th>4</th>\n",
       "      <td>260</td>\n",
       "      <td>4bc9f113cc8cd13a7c7fbccf</td>\n",
       "      <td>98</td>\n",
       "      <td>40.757713</td>\n",
       "      <td>-74.043751</td>\n",
       "      <td>Fried Chicken Joint</td>\n",
       "      <td>US</td>\n",
       "      <td>164</td>\n",
       "      <td>60</td>\n",
       "    </tr>\n",
       "  </tbody>\n",
       "</table>\n",
       "</div>"
      ],
      "text/plain": [
       "   user_id                  venue_id  utc_time   latitude  longitude  \\\n",
       "0      260  4aa9386ef964a5208b5220e3        22  40.745837 -73.987993   \n",
       "1      260  4b021b27f964a520bf4722e3        28  40.760108 -74.044416   \n",
       "2      260  4bfaa8a35efe2d7fb3ea6d34        58  40.867217 -73.896747   \n",
       "3      260  4a0e0f85f964a520bf751fe3        90  40.745878 -73.988142   \n",
       "4      260  4bc9f113cc8cd13a7c7fbccf        98  40.757713 -74.043751   \n",
       "\n",
       "              category country_code  category_id  country_code_id  \n",
       "0  American Restaurant           US          100               60  \n",
       "1           Restaurant           US          335               60  \n",
       "2             Bus Line           US          364               60  \n",
       "3                Hotel           US          377               60  \n",
       "4  Fried Chicken Joint           US          164               60  "
      ]
     },
     "execution_count": 6,
     "metadata": {},
     "output_type": "execute_result"
    }
   ],
   "source": [
    "df.head()"
   ]
  },
  {
   "cell_type": "code",
   "execution_count": 7,
   "metadata": {},
   "outputs": [
    {
     "data": {
      "text/plain": [
       "True"
      ]
     },
     "execution_count": 7,
     "metadata": {},
     "output_type": "execute_result"
    }
   ],
   "source": [
    "[1,2] == [1,2]"
   ]
  },
  {
   "cell_type": "code",
   "execution_count": 8,
   "metadata": {},
   "outputs": [
    {
     "data": {
      "text/plain": [
       "{}"
      ]
     },
     "execution_count": 8,
     "metadata": {},
     "output_type": "execute_result"
    }
   ],
   "source": [
    "venue_city"
   ]
  },
  {
   "cell_type": "code",
   "execution_count": 10,
   "metadata": {},
   "outputs": [],
   "source": [
    "import pickle\n",
    "f = open(\"./Datasets/dataset_TIST2015/citylist_latlong.pkl\", \"rb\")\n",
    "venue_city = pickle.load(f)\n",
    "f.close()"
   ]
  },
  {
   "cell_type": "code",
   "execution_count": 18,
   "metadata": {},
   "outputs": [
    {
     "data": {
      "text/plain": [
       "50977"
      ]
     },
     "execution_count": 18,
     "metadata": {},
     "output_type": "execute_result"
    }
   ],
   "source": [
    "len(venue_city)"
   ]
  },
  {
   "cell_type": "code",
   "execution_count": 13,
   "metadata": {},
   "outputs": [
    {
     "data": {
      "text/html": [
       "<div>\n",
       "<style scoped>\n",
       "    .dataframe tbody tr th:only-of-type {\n",
       "        vertical-align: middle;\n",
       "    }\n",
       "\n",
       "    .dataframe tbody tr th {\n",
       "        vertical-align: top;\n",
       "    }\n",
       "\n",
       "    .dataframe thead th {\n",
       "        text-align: right;\n",
       "    }\n",
       "</style>\n",
       "<table border=\"1\" class=\"dataframe\">\n",
       "  <thead>\n",
       "    <tr style=\"text-align: right;\">\n",
       "      <th></th>\n",
       "      <th>user_id</th>\n",
       "      <th>venue_id</th>\n",
       "      <th>utc_time</th>\n",
       "      <th>latitude</th>\n",
       "      <th>longitude</th>\n",
       "      <th>category</th>\n",
       "      <th>country_code</th>\n",
       "      <th>category_id</th>\n",
       "      <th>country_code_id</th>\n",
       "      <th>city_name</th>\n",
       "    </tr>\n",
       "  </thead>\n",
       "  <tbody>\n",
       "    <tr>\n",
       "      <th>0</th>\n",
       "      <td>260</td>\n",
       "      <td>4aa9386ef964a5208b5220e3</td>\n",
       "      <td>22</td>\n",
       "      <td>40.745837</td>\n",
       "      <td>-73.987993</td>\n",
       "      <td>American Restaurant</td>\n",
       "      <td>US</td>\n",
       "      <td>100</td>\n",
       "      <td>60</td>\n",
       "      <td>New York</td>\n",
       "    </tr>\n",
       "    <tr>\n",
       "      <th>1</th>\n",
       "      <td>260</td>\n",
       "      <td>4b021b27f964a520bf4722e3</td>\n",
       "      <td>28</td>\n",
       "      <td>40.760108</td>\n",
       "      <td>-74.044416</td>\n",
       "      <td>Restaurant</td>\n",
       "      <td>US</td>\n",
       "      <td>335</td>\n",
       "      <td>60</td>\n",
       "      <td>Union City</td>\n",
       "    </tr>\n",
       "    <tr>\n",
       "      <th>2</th>\n",
       "      <td>260</td>\n",
       "      <td>4bfaa8a35efe2d7fb3ea6d34</td>\n",
       "      <td>58</td>\n",
       "      <td>40.867217</td>\n",
       "      <td>-73.896747</td>\n",
       "      <td>Bus Line</td>\n",
       "      <td>US</td>\n",
       "      <td>364</td>\n",
       "      <td>60</td>\n",
       "      <td>New York</td>\n",
       "    </tr>\n",
       "    <tr>\n",
       "      <th>3</th>\n",
       "      <td>260</td>\n",
       "      <td>4a0e0f85f964a520bf751fe3</td>\n",
       "      <td>90</td>\n",
       "      <td>40.745878</td>\n",
       "      <td>-73.988142</td>\n",
       "      <td>Hotel</td>\n",
       "      <td>US</td>\n",
       "      <td>377</td>\n",
       "      <td>60</td>\n",
       "      <td>New York</td>\n",
       "    </tr>\n",
       "    <tr>\n",
       "      <th>4</th>\n",
       "      <td>260</td>\n",
       "      <td>4bc9f113cc8cd13a7c7fbccf</td>\n",
       "      <td>98</td>\n",
       "      <td>40.757713</td>\n",
       "      <td>-74.043751</td>\n",
       "      <td>Fried Chicken Joint</td>\n",
       "      <td>US</td>\n",
       "      <td>164</td>\n",
       "      <td>60</td>\n",
       "      <td>Union City</td>\n",
       "    </tr>\n",
       "  </tbody>\n",
       "</table>\n",
       "</div>"
      ],
      "text/plain": [
       "   user_id                  venue_id  utc_time   latitude  longitude  \\\n",
       "0      260  4aa9386ef964a5208b5220e3        22  40.745837 -73.987993   \n",
       "1      260  4b021b27f964a520bf4722e3        28  40.760108 -74.044416   \n",
       "2      260  4bfaa8a35efe2d7fb3ea6d34        58  40.867217 -73.896747   \n",
       "3      260  4a0e0f85f964a520bf751fe3        90  40.745878 -73.988142   \n",
       "4      260  4bc9f113cc8cd13a7c7fbccf        98  40.757713 -74.043751   \n",
       "\n",
       "              category country_code  category_id  country_code_id   city_name  \n",
       "0  American Restaurant           US          100               60    New York  \n",
       "1           Restaurant           US          335               60  Union City  \n",
       "2             Bus Line           US          364               60    New York  \n",
       "3                Hotel           US          377               60    New York  \n",
       "4  Fried Chicken Joint           US          164               60  Union City  "
      ]
     },
     "execution_count": 13,
     "metadata": {},
     "output_type": "execute_result"
    }
   ],
   "source": [
    "a = 0\n",
    "def makeCity(l):\n",
    "    global a\n",
    "    if (l['latitude'], l['longitude']) in venue_city.keys():\n",
    "        return venue_city[(l['latitude'], l['longitude'])]\n",
    "    else:\n",
    "        a += 1\n",
    "        return np.nan\n",
    "\n",
    "df['city_name'] = df.apply(makeCity, axis=1)\n",
    "df.head()\n"
   ]
  },
  {
   "cell_type": "code",
   "execution_count": 13,
   "metadata": {},
   "outputs": [
    {
     "name": "stdout",
     "output_type": "stream",
     "text": [
      "Collecting tqdm\n",
      "  Using cached https://files.pythonhosted.org/packages/47/55/fd9170ba08a1a64a18a7f8a18f088037316f2a41be04d2fe6ece5a653e8f/tqdm-4.43.0-py2.py3-none-any.whl\n",
      "Installing collected packages: tqdm\n",
      "Successfully installed tqdm-4.43.0\n"
     ]
    }
   ],
   "source": [
    "!pip3 install tqdm"
   ]
  },
  {
   "cell_type": "code",
   "execution_count": 23,
   "metadata": {},
   "outputs": [
    {
     "data": {
      "text/html": [
       "<div>\n",
       "<style scoped>\n",
       "    .dataframe tbody tr th:only-of-type {\n",
       "        vertical-align: middle;\n",
       "    }\n",
       "\n",
       "    .dataframe tbody tr th {\n",
       "        vertical-align: top;\n",
       "    }\n",
       "\n",
       "    .dataframe thead th {\n",
       "        text-align: right;\n",
       "    }\n",
       "</style>\n",
       "<table border=\"1\" class=\"dataframe\">\n",
       "  <thead>\n",
       "    <tr style=\"text-align: right;\">\n",
       "      <th></th>\n",
       "      <th>user_id</th>\n",
       "      <th>venue_id</th>\n",
       "      <th>utc_time</th>\n",
       "      <th>latitude</th>\n",
       "      <th>longitude</th>\n",
       "      <th>category</th>\n",
       "      <th>country_code</th>\n",
       "      <th>category_id</th>\n",
       "      <th>country_code_id</th>\n",
       "      <th>city_name</th>\n",
       "    </tr>\n",
       "  </thead>\n",
       "  <tbody>\n",
       "    <tr>\n",
       "      <th>0</th>\n",
       "      <td>260</td>\n",
       "      <td>4aa9386ef964a5208b5220e3</td>\n",
       "      <td>22</td>\n",
       "      <td>40.745837</td>\n",
       "      <td>-73.987993</td>\n",
       "      <td>American Restaurant</td>\n",
       "      <td>US</td>\n",
       "      <td>100</td>\n",
       "      <td>60</td>\n",
       "      <td>New York</td>\n",
       "    </tr>\n",
       "    <tr>\n",
       "      <th>1</th>\n",
       "      <td>260</td>\n",
       "      <td>4b021b27f964a520bf4722e3</td>\n",
       "      <td>28</td>\n",
       "      <td>40.760108</td>\n",
       "      <td>-74.044416</td>\n",
       "      <td>Restaurant</td>\n",
       "      <td>US</td>\n",
       "      <td>335</td>\n",
       "      <td>60</td>\n",
       "      <td>Union City</td>\n",
       "    </tr>\n",
       "    <tr>\n",
       "      <th>2</th>\n",
       "      <td>260</td>\n",
       "      <td>4bfaa8a35efe2d7fb3ea6d34</td>\n",
       "      <td>58</td>\n",
       "      <td>40.867217</td>\n",
       "      <td>-73.896747</td>\n",
       "      <td>Bus Line</td>\n",
       "      <td>US</td>\n",
       "      <td>364</td>\n",
       "      <td>60</td>\n",
       "      <td>New York</td>\n",
       "    </tr>\n",
       "    <tr>\n",
       "      <th>3</th>\n",
       "      <td>260</td>\n",
       "      <td>4a0e0f85f964a520bf751fe3</td>\n",
       "      <td>90</td>\n",
       "      <td>40.745878</td>\n",
       "      <td>-73.988142</td>\n",
       "      <td>Hotel</td>\n",
       "      <td>US</td>\n",
       "      <td>377</td>\n",
       "      <td>60</td>\n",
       "      <td>New York</td>\n",
       "    </tr>\n",
       "    <tr>\n",
       "      <th>4</th>\n",
       "      <td>260</td>\n",
       "      <td>4bc9f113cc8cd13a7c7fbccf</td>\n",
       "      <td>98</td>\n",
       "      <td>40.757713</td>\n",
       "      <td>-74.043751</td>\n",
       "      <td>Fried Chicken Joint</td>\n",
       "      <td>US</td>\n",
       "      <td>164</td>\n",
       "      <td>60</td>\n",
       "      <td>Union City</td>\n",
       "    </tr>\n",
       "    <tr>\n",
       "      <th>5</th>\n",
       "      <td>260</td>\n",
       "      <td>4c4ec7fc9932e21e36b249ce</td>\n",
       "      <td>105</td>\n",
       "      <td>40.865904</td>\n",
       "      <td>-73.894830</td>\n",
       "      <td>Home (private)</td>\n",
       "      <td>US</td>\n",
       "      <td>7</td>\n",
       "      <td>60</td>\n",
       "      <td>New York</td>\n",
       "    </tr>\n",
       "    <tr>\n",
       "      <th>6</th>\n",
       "      <td>260</td>\n",
       "      <td>4cd3f20d9828b60cc31ad884</td>\n",
       "      <td>142</td>\n",
       "      <td>40.825079</td>\n",
       "      <td>-73.920135</td>\n",
       "      <td>City</td>\n",
       "      <td>US</td>\n",
       "      <td>290</td>\n",
       "      <td>60</td>\n",
       "      <td>New York</td>\n",
       "    </tr>\n",
       "    <tr>\n",
       "      <th>7</th>\n",
       "      <td>260</td>\n",
       "      <td>4f8213e6e4b042dc225bf065</td>\n",
       "      <td>143</td>\n",
       "      <td>40.745025</td>\n",
       "      <td>-74.006368</td>\n",
       "      <td>Park</td>\n",
       "      <td>US</td>\n",
       "      <td>243</td>\n",
       "      <td>60</td>\n",
       "      <td>New York</td>\n",
       "    </tr>\n",
       "    <tr>\n",
       "      <th>8</th>\n",
       "      <td>260</td>\n",
       "      <td>42f15a80f964a520bc261fe3</td>\n",
       "      <td>173</td>\n",
       "      <td>40.752120</td>\n",
       "      <td>-73.999760</td>\n",
       "      <td>Event Space</td>\n",
       "      <td>US</td>\n",
       "      <td>362</td>\n",
       "      <td>60</td>\n",
       "      <td>New York</td>\n",
       "    </tr>\n",
       "    <tr>\n",
       "      <th>9</th>\n",
       "      <td>260</td>\n",
       "      <td>4da4d091fa8c7394fc86d456</td>\n",
       "      <td>198</td>\n",
       "      <td>40.832561</td>\n",
       "      <td>-73.915054</td>\n",
       "      <td>Residential Building (Apartment / Condo)</td>\n",
       "      <td>US</td>\n",
       "      <td>265</td>\n",
       "      <td>60</td>\n",
       "      <td>New York</td>\n",
       "    </tr>\n",
       "  </tbody>\n",
       "</table>\n",
       "</div>"
      ],
      "text/plain": [
       "   user_id                  venue_id  utc_time   latitude  longitude  \\\n",
       "0      260  4aa9386ef964a5208b5220e3        22  40.745837 -73.987993   \n",
       "1      260  4b021b27f964a520bf4722e3        28  40.760108 -74.044416   \n",
       "2      260  4bfaa8a35efe2d7fb3ea6d34        58  40.867217 -73.896747   \n",
       "3      260  4a0e0f85f964a520bf751fe3        90  40.745878 -73.988142   \n",
       "4      260  4bc9f113cc8cd13a7c7fbccf        98  40.757713 -74.043751   \n",
       "5      260  4c4ec7fc9932e21e36b249ce       105  40.865904 -73.894830   \n",
       "6      260  4cd3f20d9828b60cc31ad884       142  40.825079 -73.920135   \n",
       "7      260  4f8213e6e4b042dc225bf065       143  40.745025 -74.006368   \n",
       "8      260  42f15a80f964a520bc261fe3       173  40.752120 -73.999760   \n",
       "9      260  4da4d091fa8c7394fc86d456       198  40.832561 -73.915054   \n",
       "\n",
       "                                   category country_code  category_id  \\\n",
       "0                       American Restaurant           US          100   \n",
       "1                                Restaurant           US          335   \n",
       "2                                  Bus Line           US          364   \n",
       "3                                     Hotel           US          377   \n",
       "4                       Fried Chicken Joint           US          164   \n",
       "5                            Home (private)           US            7   \n",
       "6                                      City           US          290   \n",
       "7                                      Park           US          243   \n",
       "8                               Event Space           US          362   \n",
       "9  Residential Building (Apartment / Condo)           US          265   \n",
       "\n",
       "   country_code_id   city_name  \n",
       "0               60    New York  \n",
       "1               60  Union City  \n",
       "2               60    New York  \n",
       "3               60    New York  \n",
       "4               60  Union City  \n",
       "5               60    New York  \n",
       "6               60    New York  \n",
       "7               60    New York  \n",
       "8               60    New York  \n",
       "9               60    New York  "
      ]
     },
     "execution_count": 23,
     "metadata": {},
     "output_type": "execute_result"
    }
   ],
   "source": [
    "df.head(10)"
   ]
  },
  {
   "cell_type": "code",
   "execution_count": 24,
   "metadata": {},
   "outputs": [
    {
     "data": {
      "text/plain": [
       "39216"
      ]
     },
     "execution_count": 24,
     "metadata": {},
     "output_type": "execute_result"
    }
   ],
   "source": [
    "df['city_name'].to_list().count(np.nan)"
   ]
  },
  {
   "cell_type": "code",
   "execution_count": 25,
   "metadata": {},
   "outputs": [
    {
     "data": {
      "text/plain": [
       "39216"
      ]
     },
     "execution_count": 25,
     "metadata": {},
     "output_type": "execute_result"
    }
   ],
   "source": [
    "a"
   ]
  },
  {
   "cell_type": "code",
   "execution_count": 27,
   "metadata": {},
   "outputs": [],
   "source": [
    "df.to_csv(\"./Datasets/dataset_TIST2015/smalldata.csv\", index=False, sep='\\t', encoding='utf-8')"
   ]
  },
  {
   "cell_type": "code",
   "execution_count": 2,
   "metadata": {},
   "outputs": [
    {
     "name": "stderr",
     "output_type": "stream",
     "text": [
      "/home/rishi/.local/lib/python2.7/site-packages/IPython/core/interactiveshell.py:2714: DtypeWarning: Columns (0) have mixed types. Specify dtype option on import or set low_memory=False.\n",
      "  interactivity=interactivity, compiler=compiler, result=result)\n"
     ]
    },
    {
     "data": {
      "text/html": [
       "<div>\n",
       "<style scoped>\n",
       "    .dataframe tbody tr th:only-of-type {\n",
       "        vertical-align: middle;\n",
       "    }\n",
       "\n",
       "    .dataframe tbody tr th {\n",
       "        vertical-align: top;\n",
       "    }\n",
       "\n",
       "    .dataframe thead th {\n",
       "        text-align: right;\n",
       "    }\n",
       "</style>\n",
       "<table border=\"1\" class=\"dataframe\">\n",
       "  <thead>\n",
       "    <tr style=\"text-align: right;\">\n",
       "      <th></th>\n",
       "      <th>user_id</th>\n",
       "      <th>venue_id</th>\n",
       "      <th>utc_time</th>\n",
       "      <th>latitude</th>\n",
       "      <th>longitude</th>\n",
       "      <th>category</th>\n",
       "      <th>country_code</th>\n",
       "      <th>category_id</th>\n",
       "      <th>country_code_id</th>\n",
       "      <th>city_name</th>\n",
       "    </tr>\n",
       "  </thead>\n",
       "  <tbody>\n",
       "    <tr>\n",
       "      <th>0</th>\n",
       "      <td>260</td>\n",
       "      <td>4aa9386ef964a5208b5220e3</td>\n",
       "      <td>22.0</td>\n",
       "      <td>40.745837</td>\n",
       "      <td>-73.987993</td>\n",
       "      <td>American Restaurant</td>\n",
       "      <td>US</td>\n",
       "      <td>100.0</td>\n",
       "      <td>60.0</td>\n",
       "      <td>New York</td>\n",
       "    </tr>\n",
       "    <tr>\n",
       "      <th>1</th>\n",
       "      <td>260</td>\n",
       "      <td>4b021b27f964a520bf4722e3</td>\n",
       "      <td>28.0</td>\n",
       "      <td>40.760108</td>\n",
       "      <td>-74.044416</td>\n",
       "      <td>Restaurant</td>\n",
       "      <td>US</td>\n",
       "      <td>335.0</td>\n",
       "      <td>60.0</td>\n",
       "      <td>Union City</td>\n",
       "    </tr>\n",
       "    <tr>\n",
       "      <th>2</th>\n",
       "      <td>260</td>\n",
       "      <td>4bfaa8a35efe2d7fb3ea6d34</td>\n",
       "      <td>58.0</td>\n",
       "      <td>40.867217</td>\n",
       "      <td>-73.896747</td>\n",
       "      <td>Bus Line</td>\n",
       "      <td>US</td>\n",
       "      <td>364.0</td>\n",
       "      <td>60.0</td>\n",
       "      <td>New York</td>\n",
       "    </tr>\n",
       "    <tr>\n",
       "      <th>3</th>\n",
       "      <td>260</td>\n",
       "      <td>4a0e0f85f964a520bf751fe3</td>\n",
       "      <td>90.0</td>\n",
       "      <td>40.745878</td>\n",
       "      <td>-73.988142</td>\n",
       "      <td>Hotel</td>\n",
       "      <td>US</td>\n",
       "      <td>377.0</td>\n",
       "      <td>60.0</td>\n",
       "      <td>New York</td>\n",
       "    </tr>\n",
       "    <tr>\n",
       "      <th>4</th>\n",
       "      <td>260</td>\n",
       "      <td>4bc9f113cc8cd13a7c7fbccf</td>\n",
       "      <td>98.0</td>\n",
       "      <td>40.757713</td>\n",
       "      <td>-74.043751</td>\n",
       "      <td>Fried Chicken Joint</td>\n",
       "      <td>US</td>\n",
       "      <td>164.0</td>\n",
       "      <td>60.0</td>\n",
       "      <td>Union City</td>\n",
       "    </tr>\n",
       "  </tbody>\n",
       "</table>\n",
       "</div>"
      ],
      "text/plain": [
       "  user_id                  venue_id  utc_time   latitude  longitude  \\\n",
       "0     260  4aa9386ef964a5208b5220e3      22.0  40.745837 -73.987993   \n",
       "1     260  4b021b27f964a520bf4722e3      28.0  40.760108 -74.044416   \n",
       "2     260  4bfaa8a35efe2d7fb3ea6d34      58.0  40.867217 -73.896747   \n",
       "3     260  4a0e0f85f964a520bf751fe3      90.0  40.745878 -73.988142   \n",
       "4     260  4bc9f113cc8cd13a7c7fbccf      98.0  40.757713 -74.043751   \n",
       "\n",
       "              category country_code  category_id  country_code_id   city_name  \n",
       "0  American Restaurant           US        100.0             60.0    New York  \n",
       "1           Restaurant           US        335.0             60.0  Union City  \n",
       "2             Bus Line           US        364.0             60.0    New York  \n",
       "3                Hotel           US        377.0             60.0    New York  \n",
       "4  Fried Chicken Joint           US        164.0             60.0  Union City  "
      ]
     },
     "execution_count": 2,
     "metadata": {},
     "output_type": "execute_result"
    }
   ],
   "source": [
    "import pandas as pd\n",
    "import numpy as np\n",
    "df = pd.read_csv(\"./Datasets/dataset_TIST2015/smalldata_part.csv\", sep = \"\\t\")\n",
    "df.head()"
   ]
  },
  {
   "cell_type": "code",
   "execution_count": 3,
   "metadata": {},
   "outputs": [
    {
     "data": {
      "text/plain": [
       "user_id             object\n",
       "venue_id            object\n",
       "utc_time           float64\n",
       "latitude           float64\n",
       "longitude          float64\n",
       "category            object\n",
       "country_code        object\n",
       "category_id        float64\n",
       "country_code_id    float64\n",
       "city_name           object\n",
       "dtype: object"
      ]
     },
     "execution_count": 3,
     "metadata": {},
     "output_type": "execute_result"
    }
   ],
   "source": [
    "df.dtypes"
   ]
  },
  {
   "cell_type": "code",
   "execution_count": 4,
   "metadata": {},
   "outputs": [
    {
     "data": {
      "text/html": [
       "<div>\n",
       "<style scoped>\n",
       "    .dataframe tbody tr th:only-of-type {\n",
       "        vertical-align: middle;\n",
       "    }\n",
       "\n",
       "    .dataframe tbody tr th {\n",
       "        vertical-align: top;\n",
       "    }\n",
       "\n",
       "    .dataframe thead th {\n",
       "        text-align: right;\n",
       "    }\n",
       "</style>\n",
       "<table border=\"1\" class=\"dataframe\">\n",
       "  <thead>\n",
       "    <tr style=\"text-align: right;\">\n",
       "      <th></th>\n",
       "      <th>user_id</th>\n",
       "      <th>venue_id</th>\n",
       "      <th>utc_time</th>\n",
       "      <th>latitude</th>\n",
       "      <th>longitude</th>\n",
       "      <th>category</th>\n",
       "      <th>country_code</th>\n",
       "      <th>category_id</th>\n",
       "      <th>country_code_id</th>\n",
       "      <th>city_name</th>\n",
       "    </tr>\n",
       "  </thead>\n",
       "  <tbody>\n",
       "    <tr>\n",
       "      <th>181084</th>\n",
       "      <td>263463</td>\n",
       "      <td>43ca6968f964a520af2d1fe3</td>\n",
       "      <td>80502.0</td>\n",
       "      <td>34.057388</td>\n",
       "      <td>-118.237980</td>\n",
       "      <td>Plaza</td>\n",
       "      <td>US</td>\n",
       "      <td>148.0</td>\n",
       "      <td>60.0</td>\n",
       "      <td>Los Angeles</td>\n",
       "    </tr>\n",
       "    <tr>\n",
       "      <th>181085</th>\n",
       "      <td>263463</td>\n",
       "      <td>4b27d842f964a520098b24e3</td>\n",
       "      <td>82705.0</td>\n",
       "      <td>34.020645</td>\n",
       "      <td>-118.399512</td>\n",
       "      <td>Coffee Shop</td>\n",
       "      <td>US</td>\n",
       "      <td>22.0</td>\n",
       "      <td>60.0</td>\n",
       "      <td>NaN</td>\n",
       "    </tr>\n",
       "    <tr>\n",
       "      <th>181086</th>\n",
       "      <td>263463</td>\n",
       "      <td>4b27d842f964a520098b24e3</td>\n",
       "      <td>82800.0</td>\n",
       "      <td>34.020645</td>\n",
       "      <td>-118.399512</td>\n",
       "      <td>Coffee Shop</td>\n",
       "      <td>US</td>\n",
       "      <td>22.0</td>\n",
       "      <td>60.0</td>\n",
       "      <td>NaN</td>\n",
       "    </tr>\n",
       "    <tr>\n",
       "      <th>181087</th>\n",
       "      <td>263463</td>\n",
       "      <td>4de41d6a18385df2b04c8b3d</td>\n",
       "      <td>83058.0</td>\n",
       "      <td>34.007673</td>\n",
       "      <td>-118.412474</td>\n",
       "      <td>Ramen /  Noodle House</td>\n",
       "      <td>US</td>\n",
       "      <td>153.0</td>\n",
       "      <td>60.0</td>\n",
       "      <td>NaN</td>\n",
       "    </tr>\n",
       "    <tr>\n",
       "      <th>181088</th>\n",
       "      <td>263463</td>\n",
       "      <td>4de41d6a18385df2b04c8b3d</td>\n",
       "      <td>84692.0</td>\n",
       "      <td>34.007673</td>\n",
       "      <td>-118.412474</td>\n",
       "      <td>Ramen /  Noodle House</td>\n",
       "      <td>US</td>\n",
       "      <td>153.0</td>\n",
       "      <td>60.0</td>\n",
       "      <td>NaN</td>\n",
       "    </tr>\n",
       "  </tbody>\n",
       "</table>\n",
       "</div>"
      ],
      "text/plain": [
       "       user_id                  venue_id  utc_time   latitude   longitude  \\\n",
       "181084  263463  43ca6968f964a520af2d1fe3   80502.0  34.057388 -118.237980   \n",
       "181085  263463  4b27d842f964a520098b24e3   82705.0  34.020645 -118.399512   \n",
       "181086  263463  4b27d842f964a520098b24e3   82800.0  34.020645 -118.399512   \n",
       "181087  263463  4de41d6a18385df2b04c8b3d   83058.0  34.007673 -118.412474   \n",
       "181088  263463  4de41d6a18385df2b04c8b3d   84692.0  34.007673 -118.412474   \n",
       "\n",
       "                     category country_code  category_id  country_code_id  \\\n",
       "181084                  Plaza           US        148.0             60.0   \n",
       "181085            Coffee Shop           US         22.0             60.0   \n",
       "181086            Coffee Shop           US         22.0             60.0   \n",
       "181087  Ramen /  Noodle House           US        153.0             60.0   \n",
       "181088  Ramen /  Noodle House           US        153.0             60.0   \n",
       "\n",
       "          city_name  \n",
       "181084  Los Angeles  \n",
       "181085          NaN  \n",
       "181086          NaN  \n",
       "181087          NaN  \n",
       "181088          NaN  "
      ]
     },
     "execution_count": 4,
     "metadata": {},
     "output_type": "execute_result"
    }
   ],
   "source": [
    "df.tail()"
   ]
  },
  {
   "cell_type": "code",
   "execution_count": null,
   "metadata": {},
   "outputs": [],
   "source": []
  }
 ],
 "metadata": {
  "kernelspec": {
   "display_name": "Python 3",
   "language": "python",
   "name": "python3"
  },
  "language_info": {
   "codemirror_mode": {
    "name": "ipython",
    "version": 2
   },
   "file_extension": ".py",
   "mimetype": "text/x-python",
   "name": "python",
   "nbconvert_exporter": "python",
   "pygments_lexer": "ipython2",
   "version": "2.7.17"
  }
 },
 "nbformat": 4,
 "nbformat_minor": 4
}
