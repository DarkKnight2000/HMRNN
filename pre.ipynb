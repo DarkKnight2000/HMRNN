{
 "cells": [
  {
   "cell_type": "code",
   "execution_count": 4,
   "metadata": {},
   "outputs": [],
   "source": [
    "%config IPCompleter.greedy=True"
   ]
  },
  {
   "cell_type": "code",
   "execution_count": 5,
   "metadata": {},
   "outputs": [],
   "source": [
    "import pandas as pd\n",
    "import numpy as np\n",
    "\n",
    "checkin = pd.read_csv(\"./Datasets/dataset_TIST2015/smallCheckin.csv\", header=None, sep=\"\\t\")\n",
    "cities = pd.read_csv(\"./Datasets/dataset_TIST2015/dataset_TIST2015_Cities.txt\", header=None, sep=\"\\t\")\n",
    "pois = pd.read_csv(\"./Datasets/dataset_TIST2015/dataset_TIST2015_POIs.txt\", header=None, sep=\"\\t\")\n",
    "\n",
    "checkin.columns = ['user_id','venue_id','utc_time','offset']\n",
    "pois.columns = ['venue_id','latitude','longitude','category','country_code']\n",
    "cities.columns = ['city','latitude','longitude','country_code','country_name','city_type']\n",
    "\n",
    "df1 = checkin.merge(pois, on=\"venue_id\")\n"
   ]
  },
  {
   "cell_type": "code",
   "execution_count": 6,
   "metadata": {},
   "outputs": [],
   "source": [
    "v = set()\n",
    "size = 60\n",
    "def chunk_preprocess(df,field='user_id'):\n",
    "    global v,size\n",
    "    df.columns= ['user_id','venue_id','utc_time','offset']\n",
    "    uslen = len(df['user_id'].unique())\n",
    "    #print('No. of users: ', uslen)\n",
    "    if size > len(v):\n",
    "        a = 0\n",
    "        if uslen > size : a = size\n",
    "        else : a = uslen\n",
    "        v = v|set(random.sample(list(df['user_id'].unique()), a))\n",
    "        print('sss ',size,' ',len(v))\n",
    "    d = df[df[field].isin(v)]\n",
    "    return d"
   ]
  },
  {
   "cell_type": "code",
   "execution_count": 7,
   "metadata": {},
   "outputs": [],
   "source": [
    "import random\n",
    "v = set()\n",
    "size =1000"
   ]
  },
  {
   "cell_type": "code",
   "execution_count": 8,
   "metadata": {},
   "outputs": [
    {
     "name": "stdout",
     "output_type": "stream",
     "text": [
      "sss  1000   1000\n",
      "final len 201050\n",
      "No. of users:  1000\n"
     ]
    }
   ],
   "source": [
    "checkin_chunk = pd.read_csv(\"./Datasets/dataset_TIST2015/dataset_TIST2015_Checkins.txt\", header=None,sep=\"\\t\",chunksize = 150000)\n",
    "checkins_list = []\n",
    "for i in checkin_chunk:\n",
    "    df  = chunk_preprocess(i)\n",
    "    if df is not None: \n",
    "        checkins_list.append(df)\n",
    "        #print('subframe len',len(df.index))\n",
    "        #print('No. of users: ', len(df['user_id'].unique()))\n",
    "        # print(len(checkins_list))\n",
    "    else:\n",
    "        break\n",
    "if len(checkins_list) >= 1: checkindf = pd.concat(checkins_list)\n",
    "else: print(\"000000000000\")\n",
    "print('final len', len(checkindf.index))\n",
    "print('No. of users: ', len(checkindf['user_id'].unique()))"
   ]
  },
  {
   "cell_type": "code",
   "execution_count": 9,
   "metadata": {},
   "outputs": [],
   "source": [
    "checkindf.to_csv(\"./Datasets/dataset_TIST2015/smalldata.csv\", index=False)"
   ]
  },
  {
   "cell_type": "code",
   "execution_count": 10,
   "metadata": {},
   "outputs": [],
   "source": [
    "c = pd.read_csv(\"./Datasets/dataset_TIST2015/smalldata.csv\")"
   ]
  },
  {
   "cell_type": "code",
   "execution_count": 11,
   "metadata": {},
   "outputs": [],
   "source": [
    "\n",
    "c = c.drop('offset', axis=1)\n",
    "c.to_csv(\"./Datasets/dataset_TIST2015/smalldata.csv\", index=False)"
   ]
  },
  {
   "cell_type": "code",
   "execution_count": 12,
   "metadata": {},
   "outputs": [
    {
     "data": {
      "text/html": [
       "<div>\n",
       "<style scoped>\n",
       "    .dataframe tbody tr th:only-of-type {\n",
       "        vertical-align: middle;\n",
       "    }\n",
       "\n",
       "    .dataframe tbody tr th {\n",
       "        vertical-align: top;\n",
       "    }\n",
       "\n",
       "    .dataframe thead th {\n",
       "        text-align: right;\n",
       "    }\n",
       "</style>\n",
       "<table border=\"1\" class=\"dataframe\">\n",
       "  <thead>\n",
       "    <tr style=\"text-align: right;\">\n",
       "      <th></th>\n",
       "      <th>user_id</th>\n",
       "      <th>venue_id</th>\n",
       "      <th>utc_time</th>\n",
       "    </tr>\n",
       "  </thead>\n",
       "  <tbody>\n",
       "    <tr>\n",
       "      <th>0</th>\n",
       "      <td>3861</td>\n",
       "      <td>4e610977ae60e9edf521a9b4</td>\n",
       "      <td>Tue Apr 03 18:00:52 +0000 2012</td>\n",
       "    </tr>\n",
       "    <tr>\n",
       "      <th>1</th>\n",
       "      <td>174163</td>\n",
       "      <td>4b6f2cf8f964a52013e22ce3</td>\n",
       "      <td>Tue Apr 03 18:00:55 +0000 2012</td>\n",
       "    </tr>\n",
       "    <tr>\n",
       "      <th>2</th>\n",
       "      <td>174163</td>\n",
       "      <td>4d99f4252bd6f04d2c138a50</td>\n",
       "      <td>Tue Apr 03 18:01:35 +0000 2012</td>\n",
       "    </tr>\n",
       "    <tr>\n",
       "      <th>3</th>\n",
       "      <td>155775</td>\n",
       "      <td>4f74047de4b0f112e0fb1bb9</td>\n",
       "      <td>Tue Apr 03 18:01:39 +0000 2012</td>\n",
       "    </tr>\n",
       "    <tr>\n",
       "      <th>4</th>\n",
       "      <td>10339</td>\n",
       "      <td>4d30438782fd5481b758b1a8</td>\n",
       "      <td>Tue Apr 03 18:01:45 +0000 2012</td>\n",
       "    </tr>\n",
       "  </tbody>\n",
       "</table>\n",
       "</div>"
      ],
      "text/plain": [
       "   user_id                  venue_id                        utc_time\n",
       "0     3861  4e610977ae60e9edf521a9b4  Tue Apr 03 18:00:52 +0000 2012\n",
       "1   174163  4b6f2cf8f964a52013e22ce3  Tue Apr 03 18:00:55 +0000 2012\n",
       "2   174163  4d99f4252bd6f04d2c138a50  Tue Apr 03 18:01:35 +0000 2012\n",
       "3   155775  4f74047de4b0f112e0fb1bb9  Tue Apr 03 18:01:39 +0000 2012\n",
       "4    10339  4d30438782fd5481b758b1a8  Tue Apr 03 18:01:45 +0000 2012"
      ]
     },
     "execution_count": 12,
     "metadata": {},
     "output_type": "execute_result"
    }
   ],
   "source": [
    "c.head()"
   ]
  },
  {
   "cell_type": "code",
   "execution_count": 13,
   "metadata": {},
   "outputs": [
    {
     "data": {
      "text/plain": [
       "201050"
      ]
     },
     "execution_count": 13,
     "metadata": {},
     "output_type": "execute_result"
    }
   ],
   "source": [
    "len(c.index)"
   ]
  },
  {
   "cell_type": "code",
   "execution_count": 14,
   "metadata": {},
   "outputs": [],
   "source": [
    "c['utc_time'] = pd.to_datetime(c['utc_time'])\n"
   ]
  },
  {
   "cell_type": "code",
   "execution_count": 15,
   "metadata": {},
   "outputs": [],
   "source": [
    "c['utc_time'] = c['utc_time'] - c['utc_time'].min()\n",
    "c['utc_time'] = c['utc_time'].dt.seconds\n"
   ]
  },
  {
   "cell_type": "code",
   "execution_count": 16,
   "metadata": {},
   "outputs": [
    {
     "data": {
      "text/html": [
       "<div>\n",
       "<style scoped>\n",
       "    .dataframe tbody tr th:only-of-type {\n",
       "        vertical-align: middle;\n",
       "    }\n",
       "\n",
       "    .dataframe tbody tr th {\n",
       "        vertical-align: top;\n",
       "    }\n",
       "\n",
       "    .dataframe thead th {\n",
       "        text-align: right;\n",
       "    }\n",
       "</style>\n",
       "<table border=\"1\" class=\"dataframe\">\n",
       "  <thead>\n",
       "    <tr style=\"text-align: right;\">\n",
       "      <th></th>\n",
       "      <th>user_id</th>\n",
       "      <th>venue_id</th>\n",
       "      <th>utc_time</th>\n",
       "    </tr>\n",
       "  </thead>\n",
       "  <tbody>\n",
       "    <tr>\n",
       "      <th>0</th>\n",
       "      <td>3861</td>\n",
       "      <td>4e610977ae60e9edf521a9b4</td>\n",
       "      <td>0</td>\n",
       "    </tr>\n",
       "    <tr>\n",
       "      <th>1</th>\n",
       "      <td>174163</td>\n",
       "      <td>4b6f2cf8f964a52013e22ce3</td>\n",
       "      <td>3</td>\n",
       "    </tr>\n",
       "    <tr>\n",
       "      <th>2</th>\n",
       "      <td>174163</td>\n",
       "      <td>4d99f4252bd6f04d2c138a50</td>\n",
       "      <td>43</td>\n",
       "    </tr>\n",
       "    <tr>\n",
       "      <th>3</th>\n",
       "      <td>155775</td>\n",
       "      <td>4f74047de4b0f112e0fb1bb9</td>\n",
       "      <td>47</td>\n",
       "    </tr>\n",
       "    <tr>\n",
       "      <th>4</th>\n",
       "      <td>10339</td>\n",
       "      <td>4d30438782fd5481b758b1a8</td>\n",
       "      <td>53</td>\n",
       "    </tr>\n",
       "  </tbody>\n",
       "</table>\n",
       "</div>"
      ],
      "text/plain": [
       "   user_id                  venue_id  utc_time\n",
       "0     3861  4e610977ae60e9edf521a9b4         0\n",
       "1   174163  4b6f2cf8f964a52013e22ce3         3\n",
       "2   174163  4d99f4252bd6f04d2c138a50        43\n",
       "3   155775  4f74047de4b0f112e0fb1bb9        47\n",
       "4    10339  4d30438782fd5481b758b1a8        53"
      ]
     },
     "execution_count": 16,
     "metadata": {},
     "output_type": "execute_result"
    }
   ],
   "source": [
    "c.head()"
   ]
  },
  {
   "cell_type": "code",
   "execution_count": 17,
   "metadata": {},
   "outputs": [],
   "source": [
    "df= c.merge(pois,on=\"venue_id\")\n"
   ]
  },
  {
   "cell_type": "code",
   "execution_count": 18,
   "metadata": {},
   "outputs": [
    {
     "data": {
      "text/plain": [
       "201050"
      ]
     },
     "execution_count": 18,
     "metadata": {},
     "output_type": "execute_result"
    }
   ],
   "source": [
    "len(df.index)"
   ]
  },
  {
   "cell_type": "code",
   "execution_count": 19,
   "metadata": {},
   "outputs": [
    {
     "data": {
      "text/plain": [
       "422"
      ]
     },
     "execution_count": 19,
     "metadata": {},
     "output_type": "execute_result"
    }
   ],
   "source": [
    "df = df.drop(['latitude','longitude'], axis=1)\n",
    "df.head()\n",
    "len(np.unique(df['category']))\n"
   ]
  },
  {
   "cell_type": "code",
   "execution_count": 20,
   "metadata": {},
   "outputs": [
    {
     "name": "stdout",
     "output_type": "stream",
     "text": [
      "No. of cats:  422\n"
     ]
    }
   ],
   "source": [
    "d = {k:v for v,k in enumerate(list(set(df['category'])))}\n",
    "print('No. of cats: ', len(d.keys()))\n",
    "df['category'] = df['category'].map(d)"
   ]
  },
  {
   "cell_type": "code",
   "execution_count": 21,
   "metadata": {},
   "outputs": [
    {
     "data": {
      "text/html": [
       "<div>\n",
       "<style scoped>\n",
       "    .dataframe tbody tr th:only-of-type {\n",
       "        vertical-align: middle;\n",
       "    }\n",
       "\n",
       "    .dataframe tbody tr th {\n",
       "        vertical-align: top;\n",
       "    }\n",
       "\n",
       "    .dataframe thead th {\n",
       "        text-align: right;\n",
       "    }\n",
       "</style>\n",
       "<table border=\"1\" class=\"dataframe\">\n",
       "  <thead>\n",
       "    <tr style=\"text-align: right;\">\n",
       "      <th></th>\n",
       "      <th>user_id</th>\n",
       "      <th>venue_id</th>\n",
       "      <th>utc_time</th>\n",
       "      <th>category</th>\n",
       "      <th>country_code</th>\n",
       "    </tr>\n",
       "  </thead>\n",
       "  <tbody>\n",
       "    <tr>\n",
       "      <th>0</th>\n",
       "      <td>3861</td>\n",
       "      <td>4e610977ae60e9edf521a9b4</td>\n",
       "      <td>0</td>\n",
       "      <td>337</td>\n",
       "      <td>TR</td>\n",
       "    </tr>\n",
       "    <tr>\n",
       "      <th>1</th>\n",
       "      <td>174163</td>\n",
       "      <td>4b6f2cf8f964a52013e22ce3</td>\n",
       "      <td>3</td>\n",
       "      <td>274</td>\n",
       "      <td>CL</td>\n",
       "    </tr>\n",
       "    <tr>\n",
       "      <th>2</th>\n",
       "      <td>13643</td>\n",
       "      <td>4b6f2cf8f964a52013e22ce3</td>\n",
       "      <td>4327</td>\n",
       "      <td>274</td>\n",
       "      <td>CL</td>\n",
       "    </tr>\n",
       "    <tr>\n",
       "      <th>3</th>\n",
       "      <td>6322</td>\n",
       "      <td>4b6f2cf8f964a52013e22ce3</td>\n",
       "      <td>1483</td>\n",
       "      <td>274</td>\n",
       "      <td>CL</td>\n",
       "    </tr>\n",
       "    <tr>\n",
       "      <th>4</th>\n",
       "      <td>23940</td>\n",
       "      <td>4b6f2cf8f964a52013e22ce3</td>\n",
       "      <td>2916</td>\n",
       "      <td>274</td>\n",
       "      <td>CL</td>\n",
       "    </tr>\n",
       "  </tbody>\n",
       "</table>\n",
       "</div>"
      ],
      "text/plain": [
       "   user_id                  venue_id  utc_time  category country_code\n",
       "0     3861  4e610977ae60e9edf521a9b4         0       337           TR\n",
       "1   174163  4b6f2cf8f964a52013e22ce3         3       274           CL\n",
       "2    13643  4b6f2cf8f964a52013e22ce3      4327       274           CL\n",
       "3     6322  4b6f2cf8f964a52013e22ce3      1483       274           CL\n",
       "4    23940  4b6f2cf8f964a52013e22ce3      2916       274           CL"
      ]
     },
     "execution_count": 21,
     "metadata": {},
     "output_type": "execute_result"
    }
   ],
   "source": [
    "df.head()"
   ]
  },
  {
   "cell_type": "code",
   "execution_count": 22,
   "metadata": {},
   "outputs": [
    {
     "name": "stdout",
     "output_type": "stream",
     "text": [
      "No. of countries:  68\n"
     ]
    }
   ],
   "source": [
    "d = {k:v for v,k in enumerate(list(set(df['country_code'])))}\n",
    "print('No. of countries: ', len(d.keys()))\n",
    "df['country_code'] = df['country_code'].map(d)"
   ]
  },
  {
   "cell_type": "code",
   "execution_count": 23,
   "metadata": {},
   "outputs": [
    {
     "data": {
      "text/html": [
       "<div>\n",
       "<style scoped>\n",
       "    .dataframe tbody tr th:only-of-type {\n",
       "        vertical-align: middle;\n",
       "    }\n",
       "\n",
       "    .dataframe tbody tr th {\n",
       "        vertical-align: top;\n",
       "    }\n",
       "\n",
       "    .dataframe thead th {\n",
       "        text-align: right;\n",
       "    }\n",
       "</style>\n",
       "<table border=\"1\" class=\"dataframe\">\n",
       "  <thead>\n",
       "    <tr style=\"text-align: right;\">\n",
       "      <th></th>\n",
       "      <th>user_id</th>\n",
       "      <th>venue_id</th>\n",
       "      <th>utc_time</th>\n",
       "      <th>category</th>\n",
       "      <th>country_code</th>\n",
       "    </tr>\n",
       "  </thead>\n",
       "  <tbody>\n",
       "    <tr>\n",
       "      <th>0</th>\n",
       "      <td>3861</td>\n",
       "      <td>4e610977ae60e9edf521a9b4</td>\n",
       "      <td>0</td>\n",
       "      <td>337</td>\n",
       "      <td>6</td>\n",
       "    </tr>\n",
       "    <tr>\n",
       "      <th>1</th>\n",
       "      <td>174163</td>\n",
       "      <td>4b6f2cf8f964a52013e22ce3</td>\n",
       "      <td>3</td>\n",
       "      <td>274</td>\n",
       "      <td>0</td>\n",
       "    </tr>\n",
       "    <tr>\n",
       "      <th>2</th>\n",
       "      <td>13643</td>\n",
       "      <td>4b6f2cf8f964a52013e22ce3</td>\n",
       "      <td>4327</td>\n",
       "      <td>274</td>\n",
       "      <td>0</td>\n",
       "    </tr>\n",
       "    <tr>\n",
       "      <th>3</th>\n",
       "      <td>6322</td>\n",
       "      <td>4b6f2cf8f964a52013e22ce3</td>\n",
       "      <td>1483</td>\n",
       "      <td>274</td>\n",
       "      <td>0</td>\n",
       "    </tr>\n",
       "    <tr>\n",
       "      <th>4</th>\n",
       "      <td>23940</td>\n",
       "      <td>4b6f2cf8f964a52013e22ce3</td>\n",
       "      <td>2916</td>\n",
       "      <td>274</td>\n",
       "      <td>0</td>\n",
       "    </tr>\n",
       "  </tbody>\n",
       "</table>\n",
       "</div>"
      ],
      "text/plain": [
       "   user_id                  venue_id  utc_time  category  country_code\n",
       "0     3861  4e610977ae60e9edf521a9b4         0       337             6\n",
       "1   174163  4b6f2cf8f964a52013e22ce3         3       274             0\n",
       "2    13643  4b6f2cf8f964a52013e22ce3      4327       274             0\n",
       "3     6322  4b6f2cf8f964a52013e22ce3      1483       274             0\n",
       "4    23940  4b6f2cf8f964a52013e22ce3      2916       274             0"
      ]
     },
     "execution_count": 23,
     "metadata": {},
     "output_type": "execute_result"
    }
   ],
   "source": [
    "df.head()"
   ]
  },
  {
   "cell_type": "code",
   "execution_count": 24,
   "metadata": {},
   "outputs": [
    {
     "name": "stdout",
     "output_type": "stream",
     "text": [
      "No. of venues:  70419\n"
     ]
    }
   ],
   "source": [
    "d = {k:v for v,k in enumerate(list(set(df['venue_id'])))}\n",
    "print('No. of venues: ', len(d.keys()))\n",
    "df['venue_id'] = df['venue_id'].map(d)"
   ]
  },
  {
   "cell_type": "code",
   "execution_count": 25,
   "metadata": {},
   "outputs": [
    {
     "data": {
      "text/html": [
       "<div>\n",
       "<style scoped>\n",
       "    .dataframe tbody tr th:only-of-type {\n",
       "        vertical-align: middle;\n",
       "    }\n",
       "\n",
       "    .dataframe tbody tr th {\n",
       "        vertical-align: top;\n",
       "    }\n",
       "\n",
       "    .dataframe thead th {\n",
       "        text-align: right;\n",
       "    }\n",
       "</style>\n",
       "<table border=\"1\" class=\"dataframe\">\n",
       "  <thead>\n",
       "    <tr style=\"text-align: right;\">\n",
       "      <th></th>\n",
       "      <th>user_id</th>\n",
       "      <th>venue_id</th>\n",
       "      <th>utc_time</th>\n",
       "      <th>category</th>\n",
       "      <th>country_code</th>\n",
       "    </tr>\n",
       "  </thead>\n",
       "  <tbody>\n",
       "    <tr>\n",
       "      <th>0</th>\n",
       "      <td>3861</td>\n",
       "      <td>41105</td>\n",
       "      <td>0</td>\n",
       "      <td>337</td>\n",
       "      <td>6</td>\n",
       "    </tr>\n",
       "    <tr>\n",
       "      <th>1</th>\n",
       "      <td>174163</td>\n",
       "      <td>15523</td>\n",
       "      <td>3</td>\n",
       "      <td>274</td>\n",
       "      <td>0</td>\n",
       "    </tr>\n",
       "    <tr>\n",
       "      <th>2</th>\n",
       "      <td>13643</td>\n",
       "      <td>15523</td>\n",
       "      <td>4327</td>\n",
       "      <td>274</td>\n",
       "      <td>0</td>\n",
       "    </tr>\n",
       "    <tr>\n",
       "      <th>3</th>\n",
       "      <td>6322</td>\n",
       "      <td>15523</td>\n",
       "      <td>1483</td>\n",
       "      <td>274</td>\n",
       "      <td>0</td>\n",
       "    </tr>\n",
       "    <tr>\n",
       "      <th>4</th>\n",
       "      <td>23940</td>\n",
       "      <td>15523</td>\n",
       "      <td>2916</td>\n",
       "      <td>274</td>\n",
       "      <td>0</td>\n",
       "    </tr>\n",
       "  </tbody>\n",
       "</table>\n",
       "</div>"
      ],
      "text/plain": [
       "   user_id  venue_id  utc_time  category  country_code\n",
       "0     3861     41105         0       337             6\n",
       "1   174163     15523         3       274             0\n",
       "2    13643     15523      4327       274             0\n",
       "3     6322     15523      1483       274             0\n",
       "4    23940     15523      2916       274             0"
      ]
     },
     "execution_count": 25,
     "metadata": {},
     "output_type": "execute_result"
    }
   ],
   "source": [
    "df.head()"
   ]
  },
  {
   "cell_type": "code",
   "execution_count": 26,
   "metadata": {},
   "outputs": [
    {
     "data": {
      "text/plain": [
       "1000"
      ]
     },
     "execution_count": 26,
     "metadata": {},
     "output_type": "execute_result"
    }
   ],
   "source": [
    "len(set(df['user_id']))"
   ]
  },
  {
   "cell_type": "code",
   "execution_count": 27,
   "metadata": {},
   "outputs": [],
   "source": [
    "df.sort_values(by=['user_id','utc_time'],inplace=True)\n",
    "df.to_csv(\"./Datasets/dataset_TIST2015/smalldata.csv\", index=False, sep='\\t')"
   ]
  },
  {
   "cell_type": "code",
   "execution_count": 28,
   "metadata": {},
   "outputs": [
    {
     "data": {
      "text/html": [
       "<div>\n",
       "<style scoped>\n",
       "    .dataframe tbody tr th:only-of-type {\n",
       "        vertical-align: middle;\n",
       "    }\n",
       "\n",
       "    .dataframe tbody tr th {\n",
       "        vertical-align: top;\n",
       "    }\n",
       "\n",
       "    .dataframe thead th {\n",
       "        text-align: right;\n",
       "    }\n",
       "</style>\n",
       "<table border=\"1\" class=\"dataframe\">\n",
       "  <thead>\n",
       "    <tr style=\"text-align: right;\">\n",
       "      <th></th>\n",
       "      <th>user_id</th>\n",
       "      <th>venue_id</th>\n",
       "      <th>utc_time</th>\n",
       "      <th>category</th>\n",
       "      <th>country_code</th>\n",
       "    </tr>\n",
       "  </thead>\n",
       "  <tbody>\n",
       "    <tr>\n",
       "      <th>94710</th>\n",
       "      <td>26</td>\n",
       "      <td>39031</td>\n",
       "      <td>1</td>\n",
       "      <td>52</td>\n",
       "      <td>53</td>\n",
       "    </tr>\n",
       "    <tr>\n",
       "      <th>61512</th>\n",
       "      <td>26</td>\n",
       "      <td>133</td>\n",
       "      <td>496</td>\n",
       "      <td>305</td>\n",
       "      <td>53</td>\n",
       "    </tr>\n",
       "    <tr>\n",
       "      <th>171427</th>\n",
       "      <td>26</td>\n",
       "      <td>25628</td>\n",
       "      <td>7101</td>\n",
       "      <td>376</td>\n",
       "      <td>53</td>\n",
       "    </tr>\n",
       "    <tr>\n",
       "      <th>142790</th>\n",
       "      <td>26</td>\n",
       "      <td>63884</td>\n",
       "      <td>7614</td>\n",
       "      <td>305</td>\n",
       "      <td>53</td>\n",
       "    </tr>\n",
       "    <tr>\n",
       "      <th>114979</th>\n",
       "      <td>26</td>\n",
       "      <td>30471</td>\n",
       "      <td>7665</td>\n",
       "      <td>305</td>\n",
       "      <td>53</td>\n",
       "    </tr>\n",
       "  </tbody>\n",
       "</table>\n",
       "</div>"
      ],
      "text/plain": [
       "        user_id  venue_id  utc_time  category  country_code\n",
       "94710        26     39031         1        52            53\n",
       "61512        26       133       496       305            53\n",
       "171427       26     25628      7101       376            53\n",
       "142790       26     63884      7614       305            53\n",
       "114979       26     30471      7665       305            53"
      ]
     },
     "execution_count": 28,
     "metadata": {},
     "output_type": "execute_result"
    }
   ],
   "source": [
    "df.head()"
   ]
  },
  {
   "cell_type": "code",
   "execution_count": null,
   "metadata": {},
   "outputs": [],
   "source": []
  },
  {
   "cell_type": "code",
   "execution_count": null,
   "metadata": {},
   "outputs": [],
   "source": []
  },
  {
   "cell_type": "code",
   "execution_count": null,
   "metadata": {},
   "outputs": [],
   "source": []
  }
 ],
 "metadata": {
  "kernelspec": {
   "display_name": "Python 3",
   "language": "python",
   "name": "python3"
  },
  "language_info": {
   "codemirror_mode": {
    "name": "ipython",
    "version": 3
   },
   "file_extension": ".py",
   "mimetype": "text/x-python",
   "name": "python",
   "nbconvert_exporter": "python",
   "pygments_lexer": "ipython3",
   "version": "3.6.7"
  }
 },
 "nbformat": 4,
 "nbformat_minor": 4
}
