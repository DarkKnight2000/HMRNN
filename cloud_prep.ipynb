{
 "cells": [
  {
   "cell_type": "code",
   "execution_count": 0,
   "metadata": {
    "colab": {},
    "colab_type": "code",
    "id": "PSrQADcwoQ2k"
   },
   "outputs": [],
   "source": [
    "!pip install tqdm --upgrade\n",
    "\n",
    "!pip install geopy --upgrade"
   ]
  },
  {
   "cell_type": "code",
   "execution_count": 0,
   "metadata": {
    "colab": {},
    "colab_type": "code",
    "id": "4-FQ0aBHnNju"
   },
   "outputs": [],
   "source": [
    "import pandas as pd\n",
    "import numpy as np\n",
    "np.random.seed(0)"
   ]
  },
  {
   "cell_type": "code",
   "execution_count": 2,
   "metadata": {
    "colab": {
     "base_uri": "https://localhost:8080/",
     "height": 34
    },
    "colab_type": "code",
    "executionInfo": {
     "elapsed": 2225,
     "status": "ok",
     "timestamp": 1583748012308,
     "user": {
      "displayName": "Rishi Kaley",
      "photoUrl": "https://lh3.googleusercontent.com/a-/AOh14GiDMttj3lQKfWs5qRoX9T3ELulDAKWxsBx3jqeFww=s64",
      "userId": "10147052534311959716"
     },
     "user_tz": -330
    },
    "id": "JsGTRufqr-jr",
    "outputId": "0ac50019-5760-435f-ae7d-0ea0f804463e"
   },
   "outputs": [
    {
     "name": "stdout",
     "output_type": "stream",
     "text": [
      "Mounted at /content/gdrive\n"
     ]
    }
   ],
   "source": [
    "from google.colab import drive\n",
    "drive.mount('/content/gdrive', force_remount=True)\n",
    "root_dir = \"/content/gdrive/My Drive/\"\n",
    "base_dir = root_dir + 'HMRNN/'"
   ]
  },
  {
   "cell_type": "code",
   "execution_count": 0,
   "metadata": {
    "colab": {},
    "colab_type": "code",
    "id": "CBU1hhn-n26t"
   },
   "outputs": [],
   "source": [
    "df = pd.read_csv(base_dir + \"smalldata.csv\", sep='\\t')\n",
    "venue_city = dict()"
   ]
  },
  {
   "cell_type": "code",
   "execution_count": 0,
   "metadata": {
    "colab": {},
    "colab_type": "code",
    "id": "GMeeDZhQn46y"
   },
   "outputs": [],
   "source": [
    "from geopy.geocoders import Nominatim\n",
    "from geopy.extra.rate_limiter import RateLimiter\n",
    "geolocator = Nominatim(user_agent=\"specify_your_app_name_here\", timeout=None)\n",
    "geocode = RateLimiter(geolocator.geocode, min_delay_seconds=.5)"
   ]
  },
  {
   "cell_type": "code",
   "execution_count": 0,
   "metadata": {
    "colab": {},
    "colab_type": "code",
    "id": "D7Ya9Gnen-nO"
   },
   "outputs": [],
   "source": [
    "location = geocode(\"40.745837, -73.987993\")"
   ]
  },
  {
   "cell_type": "code",
   "execution_count": 0,
   "metadata": {
    "colab": {},
    "colab_type": "code",
    "id": "t2K7clSooA7Q"
   },
   "outputs": [],
   "source": [
    "print(location)"
   ]
  },
  {
   "cell_type": "code",
   "execution_count": 0,
   "metadata": {
    "colab": {},
    "colab_type": "code",
    "id": "kW0JxL8uoEJp"
   },
   "outputs": [],
   "source": [
    "geolocator = Nominatim(user_agent=\"POI\",timeout=None)\n",
    "geocode = RateLimiter(geolocator.geocode, min_delay_seconds=.5)\n",
    "\n",
    "import pickle\n",
    "\n",
    "isTimeOut = False\n",
    "\n",
    "def getCity(l):\n",
    "    global venue_city, isTimeOut\n",
    "    if(isTimeOut) return np.nan\n",
    "    if(l['venue_id'] in venue_city.keys()):\n",
    "        #print(venue_city[l['venue_id']])\n",
    "        return venue_city[l['venue_id']]\n",
    "    try:\n",
    "        venue_city[l['venue_id']] = geocode(f\"{l['latitude']}, {l['longitude']}\").raw['address']['city']\n",
    "        f = open(base_dir + \"citylist.pkl\", \"wb\")\n",
    "        pickle.dump(venue_city, f)\n",
    "        f.close()\n",
    "        print(venue_city[l['venue_id']])\n",
    "        return venue_city[l['venue_id']]\n",
    "    except Exception:\n",
    "        return np.nan"
   ]
  },
  {
   "cell_type": "code",
   "execution_count": 0,
   "metadata": {
    "colab": {},
    "colab_type": "code",
    "id": "xOkiLbABoGLp"
   },
   "outputs": [],
   "source": [
    "######################## Only for threading\n",
    "import threading\n",
    "import time\n",
    "\n",
    "def run(df):\n",
    "    df['city_id'] = df.progress_apply(getCity, axis=1)"
   ]
  },
  {
   "cell_type": "code",
   "execution_count": 0,
   "metadata": {
    "colab": {},
    "colab_type": "code",
    "id": "F7YFbtZWoIXe"
   },
   "outputs": [],
   "source": [
    "from multiprocessing import  Pool\n",
    "import io\n",
    "from tqdm import tqdm\n",
    "tqdm.pandas()\n",
    "\n",
    "#df['city_id'] = df.progress_apply(getCity, axis=1)\n",
    "def parallelize_dataframe(df, func, n_cores=6):\n",
    "    df_split = np.array_split(df, n_cores)\n",
    "    pool = Pool(n_cores)\n",
    "    df = pd.concat(pool.map(func, df_split))\n",
    "    pool.close()\n",
    "    pool.join()\n",
    "    return df\n",
    "\n",
    "df = parallelize_dataframe(df, run)"
   ]
  },
  {
   "cell_type": "code",
   "execution_count": 0,
   "metadata": {
    "colab": {
     "base_uri": "https://localhost:8080/",
     "height": 34
    },
    "colab_type": "code",
    "id": "YoPCCn1AoLzA",
    "outputId": "1245eed7-5a2b-407b-d0e8-9e54ae823345"
   },
   "outputs": [
    {
     "data": {
      "text/plain": [
       "0"
      ]
     },
     "execution_count": 10,
     "metadata": {
      "tags": []
     },
     "output_type": "execute_result"
    }
   ],
   "source": [
    "len(venue_city)"
   ]
  },
  {
   "cell_type": "code",
   "execution_count": 14,
   "metadata": {
    "colab": {
     "base_uri": "https://localhost:8080/",
     "height": 215
    },
    "colab_type": "code",
    "executionInfo": {
     "elapsed": 1460,
     "status": "error",
     "timestamp": 1583748810234,
     "user": {
      "displayName": "Rishi Kaley",
      "photoUrl": "https://lh3.googleusercontent.com/a-/AOh14GiDMttj3lQKfWs5qRoX9T3ELulDAKWxsBx3jqeFww=s64",
      "userId": "10147052534311959716"
     },
     "user_tz": -330
    },
    "id": "Bm_iF1R7oRnS",
    "outputId": "28f171c4-c34d-4368-fbcc-918120e5a35b"
   },
   "outputs": [
    {
     "ename": "FileNotFoundError",
     "evalue": "ignored",
     "output_type": "error",
     "traceback": [
      "\u001b[0;31m---------------------------------------------------------------------------\u001b[0m",
      "\u001b[0;31mFileNotFoundError\u001b[0m                         Traceback (most recent call last)",
      "\u001b[0;32m<ipython-input-14-5be0ca57b9f7>\u001b[0m in \u001b[0;36m<module>\u001b[0;34m()\u001b[0m\n\u001b[0;32m----> 1\u001b[0;31m \u001b[0mf\u001b[0m \u001b[0;34m=\u001b[0m \u001b[0mopen\u001b[0m\u001b[0;34m(\u001b[0m\u001b[0mbase_dir\u001b[0m \u001b[0;34m+\u001b[0m \u001b[0;34m\"/citylist.pkl\"\u001b[0m\u001b[0;34m,\u001b[0m \u001b[0;34m\"rb\"\u001b[0m\u001b[0;34m)\u001b[0m\u001b[0;34m\u001b[0m\u001b[0;34m\u001b[0m\u001b[0m\n\u001b[0m\u001b[1;32m      2\u001b[0m \u001b[0md\u001b[0m \u001b[0;34m=\u001b[0m \u001b[0mpickle\u001b[0m\u001b[0;34m.\u001b[0m\u001b[0mload\u001b[0m\u001b[0;34m(\u001b[0m\u001b[0mf\u001b[0m\u001b[0;34m)\u001b[0m\u001b[0;34m\u001b[0m\u001b[0;34m\u001b[0m\u001b[0m\n\u001b[1;32m      3\u001b[0m \u001b[0mf\u001b[0m\u001b[0;34m.\u001b[0m\u001b[0mclose\u001b[0m\u001b[0;34m(\u001b[0m\u001b[0;34m)\u001b[0m\u001b[0;34m\u001b[0m\u001b[0;34m\u001b[0m\u001b[0m\n\u001b[1;32m      4\u001b[0m \u001b[0md\u001b[0m\u001b[0;34m\u001b[0m\u001b[0;34m\u001b[0m\u001b[0m\n",
      "\u001b[0;31mFileNotFoundError\u001b[0m: [Errno 2] No such file or directory: '/content/gdrive/My Drive/HMRNN//citylist.pkl'"
     ]
    }
   ],
   "source": [
    "f = open(base_dir + \"citylist.pkl\", \"rb\")\n",
    "d = pickle.load(f)\n",
    "f.close()\n",
    "d"
   ]
  },
  {
   "cell_type": "code",
   "execution_count": 4,
   "metadata": {
    "colab": {
     "base_uri": "https://localhost:8080/",
     "height": 204
    },
    "colab_type": "code",
    "executionInfo": {
     "elapsed": 944,
     "status": "ok",
     "timestamp": 1583747869560,
     "user": {
      "displayName": "Rishi Kaley",
      "photoUrl": "https://lh3.googleusercontent.com/a-/AOh14GiDMttj3lQKfWs5qRoX9T3ELulDAKWxsBx3jqeFww=s64",
      "userId": "10147052534311959716"
     },
     "user_tz": -330
    },
    "id": "qFlD8hswsz9U",
    "outputId": "f7c1d150-4331-4232-cd34-2409c5677444"
   },
   "outputs": [
    {
     "data": {
      "text/html": [
       "<div>\n",
       "<style scoped>\n",
       "    .dataframe tbody tr th:only-of-type {\n",
       "        vertical-align: middle;\n",
       "    }\n",
       "\n",
       "    .dataframe tbody tr th {\n",
       "        vertical-align: top;\n",
       "    }\n",
       "\n",
       "    .dataframe thead th {\n",
       "        text-align: right;\n",
       "    }\n",
       "</style>\n",
       "<table border=\"1\" class=\"dataframe\">\n",
       "  <thead>\n",
       "    <tr style=\"text-align: right;\">\n",
       "      <th></th>\n",
       "      <th>user_id</th>\n",
       "      <th>venue_id</th>\n",
       "      <th>utc_time</th>\n",
       "      <th>latitude</th>\n",
       "      <th>longitude</th>\n",
       "      <th>category</th>\n",
       "      <th>country_code</th>\n",
       "      <th>country_code_id</th>\n",
       "    </tr>\n",
       "  </thead>\n",
       "  <tbody>\n",
       "    <tr>\n",
       "      <th>0</th>\n",
       "      <td>260</td>\n",
       "      <td>31114</td>\n",
       "      <td>22</td>\n",
       "      <td>40.745837</td>\n",
       "      <td>-73.987993</td>\n",
       "      <td>198</td>\n",
       "      <td>US</td>\n",
       "      <td>60</td>\n",
       "    </tr>\n",
       "    <tr>\n",
       "      <th>1</th>\n",
       "      <td>260</td>\n",
       "      <td>51008</td>\n",
       "      <td>28</td>\n",
       "      <td>40.760108</td>\n",
       "      <td>-74.044416</td>\n",
       "      <td>253</td>\n",
       "      <td>US</td>\n",
       "      <td>60</td>\n",
       "    </tr>\n",
       "    <tr>\n",
       "      <th>2</th>\n",
       "      <td>260</td>\n",
       "      <td>28061</td>\n",
       "      <td>58</td>\n",
       "      <td>40.867217</td>\n",
       "      <td>-73.896747</td>\n",
       "      <td>76</td>\n",
       "      <td>US</td>\n",
       "      <td>60</td>\n",
       "    </tr>\n",
       "    <tr>\n",
       "      <th>3</th>\n",
       "      <td>260</td>\n",
       "      <td>35026</td>\n",
       "      <td>90</td>\n",
       "      <td>40.745878</td>\n",
       "      <td>-73.988142</td>\n",
       "      <td>255</td>\n",
       "      <td>US</td>\n",
       "      <td>60</td>\n",
       "    </tr>\n",
       "    <tr>\n",
       "      <th>4</th>\n",
       "      <td>260</td>\n",
       "      <td>48877</td>\n",
       "      <td>98</td>\n",
       "      <td>40.757713</td>\n",
       "      <td>-74.043751</td>\n",
       "      <td>410</td>\n",
       "      <td>US</td>\n",
       "      <td>60</td>\n",
       "    </tr>\n",
       "  </tbody>\n",
       "</table>\n",
       "</div>"
      ],
      "text/plain": [
       "   user_id  venue_id  utc_time  ...  category  country_code  country_code_id\n",
       "0      260     31114        22  ...       198            US               60\n",
       "1      260     51008        28  ...       253            US               60\n",
       "2      260     28061        58  ...        76            US               60\n",
       "3      260     35026        90  ...       255            US               60\n",
       "4      260     48877        98  ...       410            US               60\n",
       "\n",
       "[5 rows x 8 columns]"
      ]
     },
     "execution_count": 4,
     "metadata": {
      "tags": []
     },
     "output_type": "execute_result"
    }
   ],
   "source": [
    "df.head()"
   ]
  },
  {
   "cell_type": "code",
   "execution_count": 0,
   "metadata": {
    "colab": {},
    "colab_type": "code",
    "id": "W4YPww5euqdI"
   },
   "outputs": [],
   "source": [
    "df.to_csv(base_dir+\"smalldata.csv\", sep='\\t', index=False)"
   ]
  }
 ],
 "metadata": {
  "colab": {
   "name": "cloud_prep.ipynb",
   "provenance": []
  },
  "kernelspec": {
   "display_name": "Python 3",
   "language": "python",
   "name": "python3"
  },
  "language_info": {
   "codemirror_mode": {
    "name": "ipython",
    "version": 2
   },
   "file_extension": ".py",
   "mimetype": "text/x-python",
   "name": "python",
   "nbconvert_exporter": "python",
   "pygments_lexer": "ipython2",
   "version": "2.7.17"
  }
 },
 "nbformat": 4,
 "nbformat_minor": 1
}
